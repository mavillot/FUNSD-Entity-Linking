{
  "nbformat": 4,
  "nbformat_minor": 0,
  "metadata": {
    "colab": {
      "name": "EntLink_LayoutLM.ipynb",
      "provenance": [],
      "collapsed_sections": [
        "ghKTiGzgvicT",
        "txCNhgh3IcP-",
        "7pQub9q-p-w4",
        "K80KuBLOGmhx",
        "ofrsuUEuGmiG"
      ],
      "include_colab_link": true
    },
    "kernelspec": {
      "name": "python3",
      "display_name": "Python 3"
    },
    "language_info": {
      "name": "python"
    },
    "accelerator": "GPU",
    "widgets": {
      "application/vnd.jupyter.widget-state+json": {
        "d6b5da02214f45d2922ba353c9bb3464": {
          "model_module": "@jupyter-widgets/controls",
          "model_name": "HBoxModel",
          "model_module_version": "1.5.0",
          "state": {
            "_view_name": "HBoxView",
            "_dom_classes": [],
            "_model_name": "HBoxModel",
            "_view_module": "@jupyter-widgets/controls",
            "_model_module_version": "1.5.0",
            "_view_count": null,
            "_view_module_version": "1.5.0",
            "box_style": "",
            "layout": "IPY_MODEL_b4513c68537c42a7a219f018de219aeb",
            "_model_module": "@jupyter-widgets/controls",
            "children": [
              "IPY_MODEL_20b39231cf094e2cbf0a991decb9c727",
              "IPY_MODEL_9ec20d52f76647df9be6e14fd32210cf",
              "IPY_MODEL_ad83127c2f574b81a6ad1aa28d798c7e"
            ]
          }
        },
        "b4513c68537c42a7a219f018de219aeb": {
          "model_module": "@jupyter-widgets/base",
          "model_name": "LayoutModel",
          "model_module_version": "1.2.0",
          "state": {
            "_view_name": "LayoutView",
            "grid_template_rows": null,
            "right": null,
            "justify_content": null,
            "_view_module": "@jupyter-widgets/base",
            "overflow": null,
            "_model_module_version": "1.2.0",
            "_view_count": null,
            "flex_flow": null,
            "width": null,
            "min_width": null,
            "border": null,
            "align_items": null,
            "bottom": null,
            "_model_module": "@jupyter-widgets/base",
            "top": null,
            "grid_column": null,
            "overflow_y": null,
            "overflow_x": null,
            "grid_auto_flow": null,
            "grid_area": null,
            "grid_template_columns": null,
            "flex": null,
            "_model_name": "LayoutModel",
            "justify_items": null,
            "grid_row": null,
            "max_height": null,
            "align_content": null,
            "visibility": null,
            "align_self": null,
            "height": null,
            "min_height": null,
            "padding": null,
            "grid_auto_rows": null,
            "grid_gap": null,
            "max_width": null,
            "order": null,
            "_view_module_version": "1.2.0",
            "grid_template_areas": null,
            "object_position": null,
            "object_fit": null,
            "grid_auto_columns": null,
            "margin": null,
            "display": null,
            "left": null
          }
        },
        "20b39231cf094e2cbf0a991decb9c727": {
          "model_module": "@jupyter-widgets/controls",
          "model_name": "HTMLModel",
          "model_module_version": "1.5.0",
          "state": {
            "_view_name": "HTMLView",
            "style": "IPY_MODEL_ba118dae0e0c41c2be30a30959ac967a",
            "_dom_classes": [],
            "description": "",
            "_model_name": "HTMLModel",
            "placeholder": "​",
            "_view_module": "@jupyter-widgets/controls",
            "_model_module_version": "1.5.0",
            "value": "Downloading: 100%",
            "_view_count": null,
            "_view_module_version": "1.5.0",
            "description_tooltip": null,
            "_model_module": "@jupyter-widgets/controls",
            "layout": "IPY_MODEL_5962c3a03c1d43efaf4df870dba7f684"
          }
        },
        "9ec20d52f76647df9be6e14fd32210cf": {
          "model_module": "@jupyter-widgets/controls",
          "model_name": "FloatProgressModel",
          "model_module_version": "1.5.0",
          "state": {
            "_view_name": "ProgressView",
            "style": "IPY_MODEL_ef26189e16704cdda74608bb21f94b9c",
            "_dom_classes": [],
            "description": "",
            "_model_name": "FloatProgressModel",
            "bar_style": "success",
            "max": 170,
            "_view_module": "@jupyter-widgets/controls",
            "_model_module_version": "1.5.0",
            "value": 170,
            "_view_count": null,
            "_view_module_version": "1.5.0",
            "orientation": "horizontal",
            "min": 0,
            "description_tooltip": null,
            "_model_module": "@jupyter-widgets/controls",
            "layout": "IPY_MODEL_ef1914364c074736b0f74b5c7efd1fd9"
          }
        },
        "ad83127c2f574b81a6ad1aa28d798c7e": {
          "model_module": "@jupyter-widgets/controls",
          "model_name": "HTMLModel",
          "model_module_version": "1.5.0",
          "state": {
            "_view_name": "HTMLView",
            "style": "IPY_MODEL_305b3ad7e69a4cc2b04b5548a6b3ac63",
            "_dom_classes": [],
            "description": "",
            "_model_name": "HTMLModel",
            "placeholder": "​",
            "_view_module": "@jupyter-widgets/controls",
            "_model_module_version": "1.5.0",
            "value": " 170/170 [00:00&lt;00:00, 3.70kB/s]",
            "_view_count": null,
            "_view_module_version": "1.5.0",
            "description_tooltip": null,
            "_model_module": "@jupyter-widgets/controls",
            "layout": "IPY_MODEL_c1326f5c240447c8ad37dd7e4f5674c2"
          }
        },
        "ba118dae0e0c41c2be30a30959ac967a": {
          "model_module": "@jupyter-widgets/controls",
          "model_name": "DescriptionStyleModel",
          "model_module_version": "1.5.0",
          "state": {
            "_view_name": "StyleView",
            "_model_name": "DescriptionStyleModel",
            "description_width": "",
            "_view_module": "@jupyter-widgets/base",
            "_model_module_version": "1.5.0",
            "_view_count": null,
            "_view_module_version": "1.2.0",
            "_model_module": "@jupyter-widgets/controls"
          }
        },
        "5962c3a03c1d43efaf4df870dba7f684": {
          "model_module": "@jupyter-widgets/base",
          "model_name": "LayoutModel",
          "model_module_version": "1.2.0",
          "state": {
            "_view_name": "LayoutView",
            "grid_template_rows": null,
            "right": null,
            "justify_content": null,
            "_view_module": "@jupyter-widgets/base",
            "overflow": null,
            "_model_module_version": "1.2.0",
            "_view_count": null,
            "flex_flow": null,
            "width": null,
            "min_width": null,
            "border": null,
            "align_items": null,
            "bottom": null,
            "_model_module": "@jupyter-widgets/base",
            "top": null,
            "grid_column": null,
            "overflow_y": null,
            "overflow_x": null,
            "grid_auto_flow": null,
            "grid_area": null,
            "grid_template_columns": null,
            "flex": null,
            "_model_name": "LayoutModel",
            "justify_items": null,
            "grid_row": null,
            "max_height": null,
            "align_content": null,
            "visibility": null,
            "align_self": null,
            "height": null,
            "min_height": null,
            "padding": null,
            "grid_auto_rows": null,
            "grid_gap": null,
            "max_width": null,
            "order": null,
            "_view_module_version": "1.2.0",
            "grid_template_areas": null,
            "object_position": null,
            "object_fit": null,
            "grid_auto_columns": null,
            "margin": null,
            "display": null,
            "left": null
          }
        },
        "ef26189e16704cdda74608bb21f94b9c": {
          "model_module": "@jupyter-widgets/controls",
          "model_name": "ProgressStyleModel",
          "model_module_version": "1.5.0",
          "state": {
            "_view_name": "StyleView",
            "_model_name": "ProgressStyleModel",
            "description_width": "",
            "_view_module": "@jupyter-widgets/base",
            "_model_module_version": "1.5.0",
            "_view_count": null,
            "_view_module_version": "1.2.0",
            "bar_color": null,
            "_model_module": "@jupyter-widgets/controls"
          }
        },
        "ef1914364c074736b0f74b5c7efd1fd9": {
          "model_module": "@jupyter-widgets/base",
          "model_name": "LayoutModel",
          "model_module_version": "1.2.0",
          "state": {
            "_view_name": "LayoutView",
            "grid_template_rows": null,
            "right": null,
            "justify_content": null,
            "_view_module": "@jupyter-widgets/base",
            "overflow": null,
            "_model_module_version": "1.2.0",
            "_view_count": null,
            "flex_flow": null,
            "width": null,
            "min_width": null,
            "border": null,
            "align_items": null,
            "bottom": null,
            "_model_module": "@jupyter-widgets/base",
            "top": null,
            "grid_column": null,
            "overflow_y": null,
            "overflow_x": null,
            "grid_auto_flow": null,
            "grid_area": null,
            "grid_template_columns": null,
            "flex": null,
            "_model_name": "LayoutModel",
            "justify_items": null,
            "grid_row": null,
            "max_height": null,
            "align_content": null,
            "visibility": null,
            "align_self": null,
            "height": null,
            "min_height": null,
            "padding": null,
            "grid_auto_rows": null,
            "grid_gap": null,
            "max_width": null,
            "order": null,
            "_view_module_version": "1.2.0",
            "grid_template_areas": null,
            "object_position": null,
            "object_fit": null,
            "grid_auto_columns": null,
            "margin": null,
            "display": null,
            "left": null
          }
        },
        "305b3ad7e69a4cc2b04b5548a6b3ac63": {
          "model_module": "@jupyter-widgets/controls",
          "model_name": "DescriptionStyleModel",
          "model_module_version": "1.5.0",
          "state": {
            "_view_name": "StyleView",
            "_model_name": "DescriptionStyleModel",
            "description_width": "",
            "_view_module": "@jupyter-widgets/base",
            "_model_module_version": "1.5.0",
            "_view_count": null,
            "_view_module_version": "1.2.0",
            "_model_module": "@jupyter-widgets/controls"
          }
        },
        "c1326f5c240447c8ad37dd7e4f5674c2": {
          "model_module": "@jupyter-widgets/base",
          "model_name": "LayoutModel",
          "model_module_version": "1.2.0",
          "state": {
            "_view_name": "LayoutView",
            "grid_template_rows": null,
            "right": null,
            "justify_content": null,
            "_view_module": "@jupyter-widgets/base",
            "overflow": null,
            "_model_module_version": "1.2.0",
            "_view_count": null,
            "flex_flow": null,
            "width": null,
            "min_width": null,
            "border": null,
            "align_items": null,
            "bottom": null,
            "_model_module": "@jupyter-widgets/base",
            "top": null,
            "grid_column": null,
            "overflow_y": null,
            "overflow_x": null,
            "grid_auto_flow": null,
            "grid_area": null,
            "grid_template_columns": null,
            "flex": null,
            "_model_name": "LayoutModel",
            "justify_items": null,
            "grid_row": null,
            "max_height": null,
            "align_content": null,
            "visibility": null,
            "align_self": null,
            "height": null,
            "min_height": null,
            "padding": null,
            "grid_auto_rows": null,
            "grid_gap": null,
            "max_width": null,
            "order": null,
            "_view_module_version": "1.2.0",
            "grid_template_areas": null,
            "object_position": null,
            "object_fit": null,
            "grid_auto_columns": null,
            "margin": null,
            "display": null,
            "left": null
          }
        },
        "3b9c28b32fb047cda2fc957eb6638cb2": {
          "model_module": "@jupyter-widgets/controls",
          "model_name": "HBoxModel",
          "model_module_version": "1.5.0",
          "state": {
            "_view_name": "HBoxView",
            "_dom_classes": [],
            "_model_name": "HBoxModel",
            "_view_module": "@jupyter-widgets/controls",
            "_model_module_version": "1.5.0",
            "_view_count": null,
            "_view_module_version": "1.5.0",
            "box_style": "",
            "layout": "IPY_MODEL_94bd2628d93d4bb588d09b779c33a467",
            "_model_module": "@jupyter-widgets/controls",
            "children": [
              "IPY_MODEL_3f1be1fb603a48b1938a7830564ec600",
              "IPY_MODEL_ee88c033316f44a8a204ee33920ebfc3",
              "IPY_MODEL_ef3fd0b04850420795b17228aeb7ff87"
            ]
          }
        },
        "94bd2628d93d4bb588d09b779c33a467": {
          "model_module": "@jupyter-widgets/base",
          "model_name": "LayoutModel",
          "model_module_version": "1.2.0",
          "state": {
            "_view_name": "LayoutView",
            "grid_template_rows": null,
            "right": null,
            "justify_content": null,
            "_view_module": "@jupyter-widgets/base",
            "overflow": null,
            "_model_module_version": "1.2.0",
            "_view_count": null,
            "flex_flow": null,
            "width": null,
            "min_width": null,
            "border": null,
            "align_items": null,
            "bottom": null,
            "_model_module": "@jupyter-widgets/base",
            "top": null,
            "grid_column": null,
            "overflow_y": null,
            "overflow_x": null,
            "grid_auto_flow": null,
            "grid_area": null,
            "grid_template_columns": null,
            "flex": null,
            "_model_name": "LayoutModel",
            "justify_items": null,
            "grid_row": null,
            "max_height": null,
            "align_content": null,
            "visibility": null,
            "align_self": null,
            "height": null,
            "min_height": null,
            "padding": null,
            "grid_auto_rows": null,
            "grid_gap": null,
            "max_width": null,
            "order": null,
            "_view_module_version": "1.2.0",
            "grid_template_areas": null,
            "object_position": null,
            "object_fit": null,
            "grid_auto_columns": null,
            "margin": null,
            "display": null,
            "left": null
          }
        },
        "3f1be1fb603a48b1938a7830564ec600": {
          "model_module": "@jupyter-widgets/controls",
          "model_name": "HTMLModel",
          "model_module_version": "1.5.0",
          "state": {
            "_view_name": "HTMLView",
            "style": "IPY_MODEL_bc8f8a12bf4247268d97b366edd269e9",
            "_dom_classes": [],
            "description": "",
            "_model_name": "HTMLModel",
            "placeholder": "​",
            "_view_module": "@jupyter-widgets/controls",
            "_model_module_version": "1.5.0",
            "value": "Downloading: 100%",
            "_view_count": null,
            "_view_module_version": "1.5.0",
            "description_tooltip": null,
            "_model_module": "@jupyter-widgets/controls",
            "layout": "IPY_MODEL_da60e045fe494b3092fe88191f35a660"
          }
        },
        "ee88c033316f44a8a204ee33920ebfc3": {
          "model_module": "@jupyter-widgets/controls",
          "model_name": "FloatProgressModel",
          "model_module_version": "1.5.0",
          "state": {
            "_view_name": "ProgressView",
            "style": "IPY_MODEL_892002f54ec0471dabb14682448a88e2",
            "_dom_classes": [],
            "description": "",
            "_model_name": "FloatProgressModel",
            "bar_style": "success",
            "max": 606,
            "_view_module": "@jupyter-widgets/controls",
            "_model_module_version": "1.5.0",
            "value": 606,
            "_view_count": null,
            "_view_module_version": "1.5.0",
            "orientation": "horizontal",
            "min": 0,
            "description_tooltip": null,
            "_model_module": "@jupyter-widgets/controls",
            "layout": "IPY_MODEL_27d411b7ac7d40868406a26727040696"
          }
        },
        "ef3fd0b04850420795b17228aeb7ff87": {
          "model_module": "@jupyter-widgets/controls",
          "model_name": "HTMLModel",
          "model_module_version": "1.5.0",
          "state": {
            "_view_name": "HTMLView",
            "style": "IPY_MODEL_7ed1d0a399a64f6d86627ae5d55581aa",
            "_dom_classes": [],
            "description": "",
            "_model_name": "HTMLModel",
            "placeholder": "​",
            "_view_module": "@jupyter-widgets/controls",
            "_model_module_version": "1.5.0",
            "value": " 606/606 [00:00&lt;00:00, 14.8kB/s]",
            "_view_count": null,
            "_view_module_version": "1.5.0",
            "description_tooltip": null,
            "_model_module": "@jupyter-widgets/controls",
            "layout": "IPY_MODEL_c22bbbdda7104d0898b38e19d4e9a291"
          }
        },
        "bc8f8a12bf4247268d97b366edd269e9": {
          "model_module": "@jupyter-widgets/controls",
          "model_name": "DescriptionStyleModel",
          "model_module_version": "1.5.0",
          "state": {
            "_view_name": "StyleView",
            "_model_name": "DescriptionStyleModel",
            "description_width": "",
            "_view_module": "@jupyter-widgets/base",
            "_model_module_version": "1.5.0",
            "_view_count": null,
            "_view_module_version": "1.2.0",
            "_model_module": "@jupyter-widgets/controls"
          }
        },
        "da60e045fe494b3092fe88191f35a660": {
          "model_module": "@jupyter-widgets/base",
          "model_name": "LayoutModel",
          "model_module_version": "1.2.0",
          "state": {
            "_view_name": "LayoutView",
            "grid_template_rows": null,
            "right": null,
            "justify_content": null,
            "_view_module": "@jupyter-widgets/base",
            "overflow": null,
            "_model_module_version": "1.2.0",
            "_view_count": null,
            "flex_flow": null,
            "width": null,
            "min_width": null,
            "border": null,
            "align_items": null,
            "bottom": null,
            "_model_module": "@jupyter-widgets/base",
            "top": null,
            "grid_column": null,
            "overflow_y": null,
            "overflow_x": null,
            "grid_auto_flow": null,
            "grid_area": null,
            "grid_template_columns": null,
            "flex": null,
            "_model_name": "LayoutModel",
            "justify_items": null,
            "grid_row": null,
            "max_height": null,
            "align_content": null,
            "visibility": null,
            "align_self": null,
            "height": null,
            "min_height": null,
            "padding": null,
            "grid_auto_rows": null,
            "grid_gap": null,
            "max_width": null,
            "order": null,
            "_view_module_version": "1.2.0",
            "grid_template_areas": null,
            "object_position": null,
            "object_fit": null,
            "grid_auto_columns": null,
            "margin": null,
            "display": null,
            "left": null
          }
        },
        "892002f54ec0471dabb14682448a88e2": {
          "model_module": "@jupyter-widgets/controls",
          "model_name": "ProgressStyleModel",
          "model_module_version": "1.5.0",
          "state": {
            "_view_name": "StyleView",
            "_model_name": "ProgressStyleModel",
            "description_width": "",
            "_view_module": "@jupyter-widgets/base",
            "_model_module_version": "1.5.0",
            "_view_count": null,
            "_view_module_version": "1.2.0",
            "bar_color": null,
            "_model_module": "@jupyter-widgets/controls"
          }
        },
        "27d411b7ac7d40868406a26727040696": {
          "model_module": "@jupyter-widgets/base",
          "model_name": "LayoutModel",
          "model_module_version": "1.2.0",
          "state": {
            "_view_name": "LayoutView",
            "grid_template_rows": null,
            "right": null,
            "justify_content": null,
            "_view_module": "@jupyter-widgets/base",
            "overflow": null,
            "_model_module_version": "1.2.0",
            "_view_count": null,
            "flex_flow": null,
            "width": null,
            "min_width": null,
            "border": null,
            "align_items": null,
            "bottom": null,
            "_model_module": "@jupyter-widgets/base",
            "top": null,
            "grid_column": null,
            "overflow_y": null,
            "overflow_x": null,
            "grid_auto_flow": null,
            "grid_area": null,
            "grid_template_columns": null,
            "flex": null,
            "_model_name": "LayoutModel",
            "justify_items": null,
            "grid_row": null,
            "max_height": null,
            "align_content": null,
            "visibility": null,
            "align_self": null,
            "height": null,
            "min_height": null,
            "padding": null,
            "grid_auto_rows": null,
            "grid_gap": null,
            "max_width": null,
            "order": null,
            "_view_module_version": "1.2.0",
            "grid_template_areas": null,
            "object_position": null,
            "object_fit": null,
            "grid_auto_columns": null,
            "margin": null,
            "display": null,
            "left": null
          }
        },
        "7ed1d0a399a64f6d86627ae5d55581aa": {
          "model_module": "@jupyter-widgets/controls",
          "model_name": "DescriptionStyleModel",
          "model_module_version": "1.5.0",
          "state": {
            "_view_name": "StyleView",
            "_model_name": "DescriptionStyleModel",
            "description_width": "",
            "_view_module": "@jupyter-widgets/base",
            "_model_module_version": "1.5.0",
            "_view_count": null,
            "_view_module_version": "1.2.0",
            "_model_module": "@jupyter-widgets/controls"
          }
        },
        "c22bbbdda7104d0898b38e19d4e9a291": {
          "model_module": "@jupyter-widgets/base",
          "model_name": "LayoutModel",
          "model_module_version": "1.2.0",
          "state": {
            "_view_name": "LayoutView",
            "grid_template_rows": null,
            "right": null,
            "justify_content": null,
            "_view_module": "@jupyter-widgets/base",
            "overflow": null,
            "_model_module_version": "1.2.0",
            "_view_count": null,
            "flex_flow": null,
            "width": null,
            "min_width": null,
            "border": null,
            "align_items": null,
            "bottom": null,
            "_model_module": "@jupyter-widgets/base",
            "top": null,
            "grid_column": null,
            "overflow_y": null,
            "overflow_x": null,
            "grid_auto_flow": null,
            "grid_area": null,
            "grid_template_columns": null,
            "flex": null,
            "_model_name": "LayoutModel",
            "justify_items": null,
            "grid_row": null,
            "max_height": null,
            "align_content": null,
            "visibility": null,
            "align_self": null,
            "height": null,
            "min_height": null,
            "padding": null,
            "grid_auto_rows": null,
            "grid_gap": null,
            "max_width": null,
            "order": null,
            "_view_module_version": "1.2.0",
            "grid_template_areas": null,
            "object_position": null,
            "object_fit": null,
            "grid_auto_columns": null,
            "margin": null,
            "display": null,
            "left": null
          }
        },
        "dfaac4cf96d54505a479e6e64b806670": {
          "model_module": "@jupyter-widgets/controls",
          "model_name": "HBoxModel",
          "model_module_version": "1.5.0",
          "state": {
            "_view_name": "HBoxView",
            "_dom_classes": [],
            "_model_name": "HBoxModel",
            "_view_module": "@jupyter-widgets/controls",
            "_model_module_version": "1.5.0",
            "_view_count": null,
            "_view_module_version": "1.5.0",
            "box_style": "",
            "layout": "IPY_MODEL_b93b3421ad8f4324ae6c9b232d938951",
            "_model_module": "@jupyter-widgets/controls",
            "children": [
              "IPY_MODEL_57b72005b857435faf8fa52c7ad70c62",
              "IPY_MODEL_1c557c803c0a47cc844b404bcc0b89c5",
              "IPY_MODEL_f9b1e822376f41e3908daeba2664e4dd"
            ]
          }
        },
        "b93b3421ad8f4324ae6c9b232d938951": {
          "model_module": "@jupyter-widgets/base",
          "model_name": "LayoutModel",
          "model_module_version": "1.2.0",
          "state": {
            "_view_name": "LayoutView",
            "grid_template_rows": null,
            "right": null,
            "justify_content": null,
            "_view_module": "@jupyter-widgets/base",
            "overflow": null,
            "_model_module_version": "1.2.0",
            "_view_count": null,
            "flex_flow": null,
            "width": null,
            "min_width": null,
            "border": null,
            "align_items": null,
            "bottom": null,
            "_model_module": "@jupyter-widgets/base",
            "top": null,
            "grid_column": null,
            "overflow_y": null,
            "overflow_x": null,
            "grid_auto_flow": null,
            "grid_area": null,
            "grid_template_columns": null,
            "flex": null,
            "_model_name": "LayoutModel",
            "justify_items": null,
            "grid_row": null,
            "max_height": null,
            "align_content": null,
            "visibility": null,
            "align_self": null,
            "height": null,
            "min_height": null,
            "padding": null,
            "grid_auto_rows": null,
            "grid_gap": null,
            "max_width": null,
            "order": null,
            "_view_module_version": "1.2.0",
            "grid_template_areas": null,
            "object_position": null,
            "object_fit": null,
            "grid_auto_columns": null,
            "margin": null,
            "display": null,
            "left": null
          }
        },
        "57b72005b857435faf8fa52c7ad70c62": {
          "model_module": "@jupyter-widgets/controls",
          "model_name": "HTMLModel",
          "model_module_version": "1.5.0",
          "state": {
            "_view_name": "HTMLView",
            "style": "IPY_MODEL_5e3fd28dd0d14be8815640f192241903",
            "_dom_classes": [],
            "description": "",
            "_model_name": "HTMLModel",
            "placeholder": "​",
            "_view_module": "@jupyter-widgets/controls",
            "_model_module_version": "1.5.0",
            "value": "Downloading: 100%",
            "_view_count": null,
            "_view_module_version": "1.5.0",
            "description_tooltip": null,
            "_model_module": "@jupyter-widgets/controls",
            "layout": "IPY_MODEL_68c3fb05edb24991bc1ac6811fb4a611"
          }
        },
        "1c557c803c0a47cc844b404bcc0b89c5": {
          "model_module": "@jupyter-widgets/controls",
          "model_name": "FloatProgressModel",
          "model_module_version": "1.5.0",
          "state": {
            "_view_name": "ProgressView",
            "style": "IPY_MODEL_7e4c4d0e73e84f2b9a29036d685c14e1",
            "_dom_classes": [],
            "description": "",
            "_model_name": "FloatProgressModel",
            "bar_style": "success",
            "max": 231508,
            "_view_module": "@jupyter-widgets/controls",
            "_model_module_version": "1.5.0",
            "value": 231508,
            "_view_count": null,
            "_view_module_version": "1.5.0",
            "orientation": "horizontal",
            "min": 0,
            "description_tooltip": null,
            "_model_module": "@jupyter-widgets/controls",
            "layout": "IPY_MODEL_e57105ce5e5f431db46ae666596107ab"
          }
        },
        "f9b1e822376f41e3908daeba2664e4dd": {
          "model_module": "@jupyter-widgets/controls",
          "model_name": "HTMLModel",
          "model_module_version": "1.5.0",
          "state": {
            "_view_name": "HTMLView",
            "style": "IPY_MODEL_08e9046d22be491db7bd897a5ae1beab",
            "_dom_classes": [],
            "description": "",
            "_model_name": "HTMLModel",
            "placeholder": "​",
            "_view_module": "@jupyter-widgets/controls",
            "_model_module_version": "1.5.0",
            "value": " 226k/226k [00:00&lt;00:00, 1.36MB/s]",
            "_view_count": null,
            "_view_module_version": "1.5.0",
            "description_tooltip": null,
            "_model_module": "@jupyter-widgets/controls",
            "layout": "IPY_MODEL_5ffd78d770ac43fdb8199c205af3335d"
          }
        },
        "5e3fd28dd0d14be8815640f192241903": {
          "model_module": "@jupyter-widgets/controls",
          "model_name": "DescriptionStyleModel",
          "model_module_version": "1.5.0",
          "state": {
            "_view_name": "StyleView",
            "_model_name": "DescriptionStyleModel",
            "description_width": "",
            "_view_module": "@jupyter-widgets/base",
            "_model_module_version": "1.5.0",
            "_view_count": null,
            "_view_module_version": "1.2.0",
            "_model_module": "@jupyter-widgets/controls"
          }
        },
        "68c3fb05edb24991bc1ac6811fb4a611": {
          "model_module": "@jupyter-widgets/base",
          "model_name": "LayoutModel",
          "model_module_version": "1.2.0",
          "state": {
            "_view_name": "LayoutView",
            "grid_template_rows": null,
            "right": null,
            "justify_content": null,
            "_view_module": "@jupyter-widgets/base",
            "overflow": null,
            "_model_module_version": "1.2.0",
            "_view_count": null,
            "flex_flow": null,
            "width": null,
            "min_width": null,
            "border": null,
            "align_items": null,
            "bottom": null,
            "_model_module": "@jupyter-widgets/base",
            "top": null,
            "grid_column": null,
            "overflow_y": null,
            "overflow_x": null,
            "grid_auto_flow": null,
            "grid_area": null,
            "grid_template_columns": null,
            "flex": null,
            "_model_name": "LayoutModel",
            "justify_items": null,
            "grid_row": null,
            "max_height": null,
            "align_content": null,
            "visibility": null,
            "align_self": null,
            "height": null,
            "min_height": null,
            "padding": null,
            "grid_auto_rows": null,
            "grid_gap": null,
            "max_width": null,
            "order": null,
            "_view_module_version": "1.2.0",
            "grid_template_areas": null,
            "object_position": null,
            "object_fit": null,
            "grid_auto_columns": null,
            "margin": null,
            "display": null,
            "left": null
          }
        },
        "7e4c4d0e73e84f2b9a29036d685c14e1": {
          "model_module": "@jupyter-widgets/controls",
          "model_name": "ProgressStyleModel",
          "model_module_version": "1.5.0",
          "state": {
            "_view_name": "StyleView",
            "_model_name": "ProgressStyleModel",
            "description_width": "",
            "_view_module": "@jupyter-widgets/base",
            "_model_module_version": "1.5.0",
            "_view_count": null,
            "_view_module_version": "1.2.0",
            "bar_color": null,
            "_model_module": "@jupyter-widgets/controls"
          }
        },
        "e57105ce5e5f431db46ae666596107ab": {
          "model_module": "@jupyter-widgets/base",
          "model_name": "LayoutModel",
          "model_module_version": "1.2.0",
          "state": {
            "_view_name": "LayoutView",
            "grid_template_rows": null,
            "right": null,
            "justify_content": null,
            "_view_module": "@jupyter-widgets/base",
            "overflow": null,
            "_model_module_version": "1.2.0",
            "_view_count": null,
            "flex_flow": null,
            "width": null,
            "min_width": null,
            "border": null,
            "align_items": null,
            "bottom": null,
            "_model_module": "@jupyter-widgets/base",
            "top": null,
            "grid_column": null,
            "overflow_y": null,
            "overflow_x": null,
            "grid_auto_flow": null,
            "grid_area": null,
            "grid_template_columns": null,
            "flex": null,
            "_model_name": "LayoutModel",
            "justify_items": null,
            "grid_row": null,
            "max_height": null,
            "align_content": null,
            "visibility": null,
            "align_self": null,
            "height": null,
            "min_height": null,
            "padding": null,
            "grid_auto_rows": null,
            "grid_gap": null,
            "max_width": null,
            "order": null,
            "_view_module_version": "1.2.0",
            "grid_template_areas": null,
            "object_position": null,
            "object_fit": null,
            "grid_auto_columns": null,
            "margin": null,
            "display": null,
            "left": null
          }
        },
        "08e9046d22be491db7bd897a5ae1beab": {
          "model_module": "@jupyter-widgets/controls",
          "model_name": "DescriptionStyleModel",
          "model_module_version": "1.5.0",
          "state": {
            "_view_name": "StyleView",
            "_model_name": "DescriptionStyleModel",
            "description_width": "",
            "_view_module": "@jupyter-widgets/base",
            "_model_module_version": "1.5.0",
            "_view_count": null,
            "_view_module_version": "1.2.0",
            "_model_module": "@jupyter-widgets/controls"
          }
        },
        "5ffd78d770ac43fdb8199c205af3335d": {
          "model_module": "@jupyter-widgets/base",
          "model_name": "LayoutModel",
          "model_module_version": "1.2.0",
          "state": {
            "_view_name": "LayoutView",
            "grid_template_rows": null,
            "right": null,
            "justify_content": null,
            "_view_module": "@jupyter-widgets/base",
            "overflow": null,
            "_model_module_version": "1.2.0",
            "_view_count": null,
            "flex_flow": null,
            "width": null,
            "min_width": null,
            "border": null,
            "align_items": null,
            "bottom": null,
            "_model_module": "@jupyter-widgets/base",
            "top": null,
            "grid_column": null,
            "overflow_y": null,
            "overflow_x": null,
            "grid_auto_flow": null,
            "grid_area": null,
            "grid_template_columns": null,
            "flex": null,
            "_model_name": "LayoutModel",
            "justify_items": null,
            "grid_row": null,
            "max_height": null,
            "align_content": null,
            "visibility": null,
            "align_self": null,
            "height": null,
            "min_height": null,
            "padding": null,
            "grid_auto_rows": null,
            "grid_gap": null,
            "max_width": null,
            "order": null,
            "_view_module_version": "1.2.0",
            "grid_template_areas": null,
            "object_position": null,
            "object_fit": null,
            "grid_auto_columns": null,
            "margin": null,
            "display": null,
            "left": null
          }
        },
        "c139b1bdcfad4dc5a9682c99478c0df9": {
          "model_module": "@jupyter-widgets/controls",
          "model_name": "HBoxModel",
          "model_module_version": "1.5.0",
          "state": {
            "_view_name": "HBoxView",
            "_dom_classes": [],
            "_model_name": "HBoxModel",
            "_view_module": "@jupyter-widgets/controls",
            "_model_module_version": "1.5.0",
            "_view_count": null,
            "_view_module_version": "1.5.0",
            "box_style": "",
            "layout": "IPY_MODEL_b04e5763db0c4500b72d42d276cf5810",
            "_model_module": "@jupyter-widgets/controls",
            "children": [
              "IPY_MODEL_4b3eba848ec64a10a78b0d87ccbf0409",
              "IPY_MODEL_c863c6bd2b864a6a862b80f59149cd30",
              "IPY_MODEL_2107570780a24617924bf6c4c0974409"
            ]
          }
        },
        "b04e5763db0c4500b72d42d276cf5810": {
          "model_module": "@jupyter-widgets/base",
          "model_name": "LayoutModel",
          "model_module_version": "1.2.0",
          "state": {
            "_view_name": "LayoutView",
            "grid_template_rows": null,
            "right": null,
            "justify_content": null,
            "_view_module": "@jupyter-widgets/base",
            "overflow": null,
            "_model_module_version": "1.2.0",
            "_view_count": null,
            "flex_flow": null,
            "width": null,
            "min_width": null,
            "border": null,
            "align_items": null,
            "bottom": null,
            "_model_module": "@jupyter-widgets/base",
            "top": null,
            "grid_column": null,
            "overflow_y": null,
            "overflow_x": null,
            "grid_auto_flow": null,
            "grid_area": null,
            "grid_template_columns": null,
            "flex": null,
            "_model_name": "LayoutModel",
            "justify_items": null,
            "grid_row": null,
            "max_height": null,
            "align_content": null,
            "visibility": null,
            "align_self": null,
            "height": null,
            "min_height": null,
            "padding": null,
            "grid_auto_rows": null,
            "grid_gap": null,
            "max_width": null,
            "order": null,
            "_view_module_version": "1.2.0",
            "grid_template_areas": null,
            "object_position": null,
            "object_fit": null,
            "grid_auto_columns": null,
            "margin": null,
            "display": null,
            "left": null
          }
        },
        "4b3eba848ec64a10a78b0d87ccbf0409": {
          "model_module": "@jupyter-widgets/controls",
          "model_name": "HTMLModel",
          "model_module_version": "1.5.0",
          "state": {
            "_view_name": "HTMLView",
            "style": "IPY_MODEL_0d9c1cd6f3a442fcbaeaa0b089a6f84f",
            "_dom_classes": [],
            "description": "",
            "_model_name": "HTMLModel",
            "placeholder": "​",
            "_view_module": "@jupyter-widgets/controls",
            "_model_module_version": "1.5.0",
            "value": "Downloading: 100%",
            "_view_count": null,
            "_view_module_version": "1.5.0",
            "description_tooltip": null,
            "_model_module": "@jupyter-widgets/controls",
            "layout": "IPY_MODEL_c4691f83410f4625a1925ca8e9b537a5"
          }
        },
        "c863c6bd2b864a6a862b80f59149cd30": {
          "model_module": "@jupyter-widgets/controls",
          "model_name": "FloatProgressModel",
          "model_module_version": "1.5.0",
          "state": {
            "_view_name": "ProgressView",
            "style": "IPY_MODEL_5c0ecaf43ba247a89879ef675466fc6c",
            "_dom_classes": [],
            "description": "",
            "_model_name": "FloatProgressModel",
            "bar_style": "success",
            "max": 466062,
            "_view_module": "@jupyter-widgets/controls",
            "_model_module_version": "1.5.0",
            "value": 466062,
            "_view_count": null,
            "_view_module_version": "1.5.0",
            "orientation": "horizontal",
            "min": 0,
            "description_tooltip": null,
            "_model_module": "@jupyter-widgets/controls",
            "layout": "IPY_MODEL_d3a45979f04b4ae4a893177c13343cf6"
          }
        },
        "2107570780a24617924bf6c4c0974409": {
          "model_module": "@jupyter-widgets/controls",
          "model_name": "HTMLModel",
          "model_module_version": "1.5.0",
          "state": {
            "_view_name": "HTMLView",
            "style": "IPY_MODEL_8f4a1b56ae5845c9908ff9e2fd55a8fc",
            "_dom_classes": [],
            "description": "",
            "_model_name": "HTMLModel",
            "placeholder": "​",
            "_view_module": "@jupyter-widgets/controls",
            "_model_module_version": "1.5.0",
            "value": " 455k/455k [00:00&lt;00:00, 1.41MB/s]",
            "_view_count": null,
            "_view_module_version": "1.5.0",
            "description_tooltip": null,
            "_model_module": "@jupyter-widgets/controls",
            "layout": "IPY_MODEL_d8321e447fb84f7e8a7e1b118f5bf8b2"
          }
        },
        "0d9c1cd6f3a442fcbaeaa0b089a6f84f": {
          "model_module": "@jupyter-widgets/controls",
          "model_name": "DescriptionStyleModel",
          "model_module_version": "1.5.0",
          "state": {
            "_view_name": "StyleView",
            "_model_name": "DescriptionStyleModel",
            "description_width": "",
            "_view_module": "@jupyter-widgets/base",
            "_model_module_version": "1.5.0",
            "_view_count": null,
            "_view_module_version": "1.2.0",
            "_model_module": "@jupyter-widgets/controls"
          }
        },
        "c4691f83410f4625a1925ca8e9b537a5": {
          "model_module": "@jupyter-widgets/base",
          "model_name": "LayoutModel",
          "model_module_version": "1.2.0",
          "state": {
            "_view_name": "LayoutView",
            "grid_template_rows": null,
            "right": null,
            "justify_content": null,
            "_view_module": "@jupyter-widgets/base",
            "overflow": null,
            "_model_module_version": "1.2.0",
            "_view_count": null,
            "flex_flow": null,
            "width": null,
            "min_width": null,
            "border": null,
            "align_items": null,
            "bottom": null,
            "_model_module": "@jupyter-widgets/base",
            "top": null,
            "grid_column": null,
            "overflow_y": null,
            "overflow_x": null,
            "grid_auto_flow": null,
            "grid_area": null,
            "grid_template_columns": null,
            "flex": null,
            "_model_name": "LayoutModel",
            "justify_items": null,
            "grid_row": null,
            "max_height": null,
            "align_content": null,
            "visibility": null,
            "align_self": null,
            "height": null,
            "min_height": null,
            "padding": null,
            "grid_auto_rows": null,
            "grid_gap": null,
            "max_width": null,
            "order": null,
            "_view_module_version": "1.2.0",
            "grid_template_areas": null,
            "object_position": null,
            "object_fit": null,
            "grid_auto_columns": null,
            "margin": null,
            "display": null,
            "left": null
          }
        },
        "5c0ecaf43ba247a89879ef675466fc6c": {
          "model_module": "@jupyter-widgets/controls",
          "model_name": "ProgressStyleModel",
          "model_module_version": "1.5.0",
          "state": {
            "_view_name": "StyleView",
            "_model_name": "ProgressStyleModel",
            "description_width": "",
            "_view_module": "@jupyter-widgets/base",
            "_model_module_version": "1.5.0",
            "_view_count": null,
            "_view_module_version": "1.2.0",
            "bar_color": null,
            "_model_module": "@jupyter-widgets/controls"
          }
        },
        "d3a45979f04b4ae4a893177c13343cf6": {
          "model_module": "@jupyter-widgets/base",
          "model_name": "LayoutModel",
          "model_module_version": "1.2.0",
          "state": {
            "_view_name": "LayoutView",
            "grid_template_rows": null,
            "right": null,
            "justify_content": null,
            "_view_module": "@jupyter-widgets/base",
            "overflow": null,
            "_model_module_version": "1.2.0",
            "_view_count": null,
            "flex_flow": null,
            "width": null,
            "min_width": null,
            "border": null,
            "align_items": null,
            "bottom": null,
            "_model_module": "@jupyter-widgets/base",
            "top": null,
            "grid_column": null,
            "overflow_y": null,
            "overflow_x": null,
            "grid_auto_flow": null,
            "grid_area": null,
            "grid_template_columns": null,
            "flex": null,
            "_model_name": "LayoutModel",
            "justify_items": null,
            "grid_row": null,
            "max_height": null,
            "align_content": null,
            "visibility": null,
            "align_self": null,
            "height": null,
            "min_height": null,
            "padding": null,
            "grid_auto_rows": null,
            "grid_gap": null,
            "max_width": null,
            "order": null,
            "_view_module_version": "1.2.0",
            "grid_template_areas": null,
            "object_position": null,
            "object_fit": null,
            "grid_auto_columns": null,
            "margin": null,
            "display": null,
            "left": null
          }
        },
        "8f4a1b56ae5845c9908ff9e2fd55a8fc": {
          "model_module": "@jupyter-widgets/controls",
          "model_name": "DescriptionStyleModel",
          "model_module_version": "1.5.0",
          "state": {
            "_view_name": "StyleView",
            "_model_name": "DescriptionStyleModel",
            "description_width": "",
            "_view_module": "@jupyter-widgets/base",
            "_model_module_version": "1.5.0",
            "_view_count": null,
            "_view_module_version": "1.2.0",
            "_model_module": "@jupyter-widgets/controls"
          }
        },
        "d8321e447fb84f7e8a7e1b118f5bf8b2": {
          "model_module": "@jupyter-widgets/base",
          "model_name": "LayoutModel",
          "model_module_version": "1.2.0",
          "state": {
            "_view_name": "LayoutView",
            "grid_template_rows": null,
            "right": null,
            "justify_content": null,
            "_view_module": "@jupyter-widgets/base",
            "overflow": null,
            "_model_module_version": "1.2.0",
            "_view_count": null,
            "flex_flow": null,
            "width": null,
            "min_width": null,
            "border": null,
            "align_items": null,
            "bottom": null,
            "_model_module": "@jupyter-widgets/base",
            "top": null,
            "grid_column": null,
            "overflow_y": null,
            "overflow_x": null,
            "grid_auto_flow": null,
            "grid_area": null,
            "grid_template_columns": null,
            "flex": null,
            "_model_name": "LayoutModel",
            "justify_items": null,
            "grid_row": null,
            "max_height": null,
            "align_content": null,
            "visibility": null,
            "align_self": null,
            "height": null,
            "min_height": null,
            "padding": null,
            "grid_auto_rows": null,
            "grid_gap": null,
            "max_width": null,
            "order": null,
            "_view_module_version": "1.2.0",
            "grid_template_areas": null,
            "object_position": null,
            "object_fit": null,
            "grid_auto_columns": null,
            "margin": null,
            "display": null,
            "left": null
          }
        },
        "f3f7465174264fccb2b5b9d80b555f9a": {
          "model_module": "@jupyter-widgets/controls",
          "model_name": "HBoxModel",
          "model_module_version": "1.5.0",
          "state": {
            "_view_name": "HBoxView",
            "_dom_classes": [],
            "_model_name": "HBoxModel",
            "_view_module": "@jupyter-widgets/controls",
            "_model_module_version": "1.5.0",
            "_view_count": null,
            "_view_module_version": "1.5.0",
            "box_style": "",
            "layout": "IPY_MODEL_a0da95499fb14817b9792a6ed8a5eedc",
            "_model_module": "@jupyter-widgets/controls",
            "children": [
              "IPY_MODEL_ff9d11fa0a01467c90f5a54efddf7f24",
              "IPY_MODEL_08e3bdd0c8fd43f9aa01086c4de778eb",
              "IPY_MODEL_422bf94c10034354bf583166d50970e9"
            ]
          }
        },
        "a0da95499fb14817b9792a6ed8a5eedc": {
          "model_module": "@jupyter-widgets/base",
          "model_name": "LayoutModel",
          "model_module_version": "1.2.0",
          "state": {
            "_view_name": "LayoutView",
            "grid_template_rows": null,
            "right": null,
            "justify_content": null,
            "_view_module": "@jupyter-widgets/base",
            "overflow": null,
            "_model_module_version": "1.2.0",
            "_view_count": null,
            "flex_flow": null,
            "width": null,
            "min_width": null,
            "border": null,
            "align_items": null,
            "bottom": null,
            "_model_module": "@jupyter-widgets/base",
            "top": null,
            "grid_column": null,
            "overflow_y": null,
            "overflow_x": null,
            "grid_auto_flow": null,
            "grid_area": null,
            "grid_template_columns": null,
            "flex": null,
            "_model_name": "LayoutModel",
            "justify_items": null,
            "grid_row": null,
            "max_height": null,
            "align_content": null,
            "visibility": null,
            "align_self": null,
            "height": null,
            "min_height": null,
            "padding": null,
            "grid_auto_rows": null,
            "grid_gap": null,
            "max_width": null,
            "order": null,
            "_view_module_version": "1.2.0",
            "grid_template_areas": null,
            "object_position": null,
            "object_fit": null,
            "grid_auto_columns": null,
            "margin": null,
            "display": null,
            "left": null
          }
        },
        "ff9d11fa0a01467c90f5a54efddf7f24": {
          "model_module": "@jupyter-widgets/controls",
          "model_name": "HTMLModel",
          "model_module_version": "1.5.0",
          "state": {
            "_view_name": "HTMLView",
            "style": "IPY_MODEL_d4c63b679adc4db4aec7347897f6d834",
            "_dom_classes": [],
            "description": "",
            "_model_name": "HTMLModel",
            "placeholder": "​",
            "_view_module": "@jupyter-widgets/controls",
            "_model_module_version": "1.5.0",
            "value": "Downloading: 100%",
            "_view_count": null,
            "_view_module_version": "1.5.0",
            "description_tooltip": null,
            "_model_module": "@jupyter-widgets/controls",
            "layout": "IPY_MODEL_01b1d82d382647c48ae25bd61f5290e7"
          }
        },
        "08e3bdd0c8fd43f9aa01086c4de778eb": {
          "model_module": "@jupyter-widgets/controls",
          "model_name": "FloatProgressModel",
          "model_module_version": "1.5.0",
          "state": {
            "_view_name": "ProgressView",
            "style": "IPY_MODEL_5a82cc90f1f04cfc955bf20cf1845cdf",
            "_dom_classes": [],
            "description": "",
            "_model_name": "FloatProgressModel",
            "bar_style": "success",
            "max": 112,
            "_view_module": "@jupyter-widgets/controls",
            "_model_module_version": "1.5.0",
            "value": 112,
            "_view_count": null,
            "_view_module_version": "1.5.0",
            "orientation": "horizontal",
            "min": 0,
            "description_tooltip": null,
            "_model_module": "@jupyter-widgets/controls",
            "layout": "IPY_MODEL_8e7531516dfb4144b301497b26dd0a35"
          }
        },
        "422bf94c10034354bf583166d50970e9": {
          "model_module": "@jupyter-widgets/controls",
          "model_name": "HTMLModel",
          "model_module_version": "1.5.0",
          "state": {
            "_view_name": "HTMLView",
            "style": "IPY_MODEL_66c6c78f5aad488ba462d4bd803eeff1",
            "_dom_classes": [],
            "description": "",
            "_model_name": "HTMLModel",
            "placeholder": "​",
            "_view_module": "@jupyter-widgets/controls",
            "_model_module_version": "1.5.0",
            "value": " 112/112 [00:00&lt;00:00, 2.22kB/s]",
            "_view_count": null,
            "_view_module_version": "1.5.0",
            "description_tooltip": null,
            "_model_module": "@jupyter-widgets/controls",
            "layout": "IPY_MODEL_fe88811a576d4bd69e5e9508b4f52e11"
          }
        },
        "d4c63b679adc4db4aec7347897f6d834": {
          "model_module": "@jupyter-widgets/controls",
          "model_name": "DescriptionStyleModel",
          "model_module_version": "1.5.0",
          "state": {
            "_view_name": "StyleView",
            "_model_name": "DescriptionStyleModel",
            "description_width": "",
            "_view_module": "@jupyter-widgets/base",
            "_model_module_version": "1.5.0",
            "_view_count": null,
            "_view_module_version": "1.2.0",
            "_model_module": "@jupyter-widgets/controls"
          }
        },
        "01b1d82d382647c48ae25bd61f5290e7": {
          "model_module": "@jupyter-widgets/base",
          "model_name": "LayoutModel",
          "model_module_version": "1.2.0",
          "state": {
            "_view_name": "LayoutView",
            "grid_template_rows": null,
            "right": null,
            "justify_content": null,
            "_view_module": "@jupyter-widgets/base",
            "overflow": null,
            "_model_module_version": "1.2.0",
            "_view_count": null,
            "flex_flow": null,
            "width": null,
            "min_width": null,
            "border": null,
            "align_items": null,
            "bottom": null,
            "_model_module": "@jupyter-widgets/base",
            "top": null,
            "grid_column": null,
            "overflow_y": null,
            "overflow_x": null,
            "grid_auto_flow": null,
            "grid_area": null,
            "grid_template_columns": null,
            "flex": null,
            "_model_name": "LayoutModel",
            "justify_items": null,
            "grid_row": null,
            "max_height": null,
            "align_content": null,
            "visibility": null,
            "align_self": null,
            "height": null,
            "min_height": null,
            "padding": null,
            "grid_auto_rows": null,
            "grid_gap": null,
            "max_width": null,
            "order": null,
            "_view_module_version": "1.2.0",
            "grid_template_areas": null,
            "object_position": null,
            "object_fit": null,
            "grid_auto_columns": null,
            "margin": null,
            "display": null,
            "left": null
          }
        },
        "5a82cc90f1f04cfc955bf20cf1845cdf": {
          "model_module": "@jupyter-widgets/controls",
          "model_name": "ProgressStyleModel",
          "model_module_version": "1.5.0",
          "state": {
            "_view_name": "StyleView",
            "_model_name": "ProgressStyleModel",
            "description_width": "",
            "_view_module": "@jupyter-widgets/base",
            "_model_module_version": "1.5.0",
            "_view_count": null,
            "_view_module_version": "1.2.0",
            "bar_color": null,
            "_model_module": "@jupyter-widgets/controls"
          }
        },
        "8e7531516dfb4144b301497b26dd0a35": {
          "model_module": "@jupyter-widgets/base",
          "model_name": "LayoutModel",
          "model_module_version": "1.2.0",
          "state": {
            "_view_name": "LayoutView",
            "grid_template_rows": null,
            "right": null,
            "justify_content": null,
            "_view_module": "@jupyter-widgets/base",
            "overflow": null,
            "_model_module_version": "1.2.0",
            "_view_count": null,
            "flex_flow": null,
            "width": null,
            "min_width": null,
            "border": null,
            "align_items": null,
            "bottom": null,
            "_model_module": "@jupyter-widgets/base",
            "top": null,
            "grid_column": null,
            "overflow_y": null,
            "overflow_x": null,
            "grid_auto_flow": null,
            "grid_area": null,
            "grid_template_columns": null,
            "flex": null,
            "_model_name": "LayoutModel",
            "justify_items": null,
            "grid_row": null,
            "max_height": null,
            "align_content": null,
            "visibility": null,
            "align_self": null,
            "height": null,
            "min_height": null,
            "padding": null,
            "grid_auto_rows": null,
            "grid_gap": null,
            "max_width": null,
            "order": null,
            "_view_module_version": "1.2.0",
            "grid_template_areas": null,
            "object_position": null,
            "object_fit": null,
            "grid_auto_columns": null,
            "margin": null,
            "display": null,
            "left": null
          }
        },
        "66c6c78f5aad488ba462d4bd803eeff1": {
          "model_module": "@jupyter-widgets/controls",
          "model_name": "DescriptionStyleModel",
          "model_module_version": "1.5.0",
          "state": {
            "_view_name": "StyleView",
            "_model_name": "DescriptionStyleModel",
            "description_width": "",
            "_view_module": "@jupyter-widgets/base",
            "_model_module_version": "1.5.0",
            "_view_count": null,
            "_view_module_version": "1.2.0",
            "_model_module": "@jupyter-widgets/controls"
          }
        },
        "fe88811a576d4bd69e5e9508b4f52e11": {
          "model_module": "@jupyter-widgets/base",
          "model_name": "LayoutModel",
          "model_module_version": "1.2.0",
          "state": {
            "_view_name": "LayoutView",
            "grid_template_rows": null,
            "right": null,
            "justify_content": null,
            "_view_module": "@jupyter-widgets/base",
            "overflow": null,
            "_model_module_version": "1.2.0",
            "_view_count": null,
            "flex_flow": null,
            "width": null,
            "min_width": null,
            "border": null,
            "align_items": null,
            "bottom": null,
            "_model_module": "@jupyter-widgets/base",
            "top": null,
            "grid_column": null,
            "overflow_y": null,
            "overflow_x": null,
            "grid_auto_flow": null,
            "grid_area": null,
            "grid_template_columns": null,
            "flex": null,
            "_model_name": "LayoutModel",
            "justify_items": null,
            "grid_row": null,
            "max_height": null,
            "align_content": null,
            "visibility": null,
            "align_self": null,
            "height": null,
            "min_height": null,
            "padding": null,
            "grid_auto_rows": null,
            "grid_gap": null,
            "max_width": null,
            "order": null,
            "_view_module_version": "1.2.0",
            "grid_template_areas": null,
            "object_position": null,
            "object_fit": null,
            "grid_auto_columns": null,
            "margin": null,
            "display": null,
            "left": null
          }
        },
        "7ef9e6ea4dc34c0baf629244ba7e59e3": {
          "model_module": "@jupyter-widgets/controls",
          "model_name": "HBoxModel",
          "model_module_version": "1.5.0",
          "state": {
            "_view_name": "HBoxView",
            "_dom_classes": [],
            "_model_name": "HBoxModel",
            "_view_module": "@jupyter-widgets/controls",
            "_model_module_version": "1.5.0",
            "_view_count": null,
            "_view_module_version": "1.5.0",
            "box_style": "",
            "layout": "IPY_MODEL_a548dad4ed404b0a99fecd637e222307",
            "_model_module": "@jupyter-widgets/controls",
            "children": [
              "IPY_MODEL_1342f2653c36443589947f983086a1cf",
              "IPY_MODEL_ec1c3f97b0cb40d592b4a29cfebd80ce",
              "IPY_MODEL_c937f89cf44f4901889570f62e338ad0"
            ]
          }
        },
        "a548dad4ed404b0a99fecd637e222307": {
          "model_module": "@jupyter-widgets/base",
          "model_name": "LayoutModel",
          "model_module_version": "1.2.0",
          "state": {
            "_view_name": "LayoutView",
            "grid_template_rows": null,
            "right": null,
            "justify_content": null,
            "_view_module": "@jupyter-widgets/base",
            "overflow": null,
            "_model_module_version": "1.2.0",
            "_view_count": null,
            "flex_flow": null,
            "width": null,
            "min_width": null,
            "border": null,
            "align_items": null,
            "bottom": null,
            "_model_module": "@jupyter-widgets/base",
            "top": null,
            "grid_column": null,
            "overflow_y": null,
            "overflow_x": null,
            "grid_auto_flow": null,
            "grid_area": null,
            "grid_template_columns": null,
            "flex": null,
            "_model_name": "LayoutModel",
            "justify_items": null,
            "grid_row": null,
            "max_height": null,
            "align_content": null,
            "visibility": null,
            "align_self": null,
            "height": null,
            "min_height": null,
            "padding": null,
            "grid_auto_rows": null,
            "grid_gap": null,
            "max_width": null,
            "order": null,
            "_view_module_version": "1.2.0",
            "grid_template_areas": null,
            "object_position": null,
            "object_fit": null,
            "grid_auto_columns": null,
            "margin": null,
            "display": null,
            "left": null
          }
        },
        "1342f2653c36443589947f983086a1cf": {
          "model_module": "@jupyter-widgets/controls",
          "model_name": "HTMLModel",
          "model_module_version": "1.5.0",
          "state": {
            "_view_name": "HTMLView",
            "style": "IPY_MODEL_4be24ae3e30c4529b86177fa3a22c8c8",
            "_dom_classes": [],
            "description": "",
            "_model_name": "HTMLModel",
            "placeholder": "​",
            "_view_module": "@jupyter-widgets/controls",
            "_model_module_version": "1.5.0",
            "value": "Downloading: 100%",
            "_view_count": null,
            "_view_module_version": "1.5.0",
            "description_tooltip": null,
            "_model_module": "@jupyter-widgets/controls",
            "layout": "IPY_MODEL_44922515c68f4f68a13e54fc8163baee"
          }
        },
        "ec1c3f97b0cb40d592b4a29cfebd80ce": {
          "model_module": "@jupyter-widgets/controls",
          "model_name": "FloatProgressModel",
          "model_module_version": "1.5.0",
          "state": {
            "_view_name": "ProgressView",
            "style": "IPY_MODEL_4eb00790246840cfb4e1d993d17c3410",
            "_dom_classes": [],
            "description": "",
            "_model_name": "FloatProgressModel",
            "bar_style": "success",
            "max": 453093832,
            "_view_module": "@jupyter-widgets/controls",
            "_model_module_version": "1.5.0",
            "value": 453093832,
            "_view_count": null,
            "_view_module_version": "1.5.0",
            "orientation": "horizontal",
            "min": 0,
            "description_tooltip": null,
            "_model_module": "@jupyter-widgets/controls",
            "layout": "IPY_MODEL_81821521c6944db584f0713d95c7133c"
          }
        },
        "c937f89cf44f4901889570f62e338ad0": {
          "model_module": "@jupyter-widgets/controls",
          "model_name": "HTMLModel",
          "model_module_version": "1.5.0",
          "state": {
            "_view_name": "HTMLView",
            "style": "IPY_MODEL_bbb8799a2c494e8f8c90c3fa98e57134",
            "_dom_classes": [],
            "description": "",
            "_model_name": "HTMLModel",
            "placeholder": "​",
            "_view_module": "@jupyter-widgets/controls",
            "_model_module_version": "1.5.0",
            "value": " 432M/432M [00:15&lt;00:00, 32.9MB/s]",
            "_view_count": null,
            "_view_module_version": "1.5.0",
            "description_tooltip": null,
            "_model_module": "@jupyter-widgets/controls",
            "layout": "IPY_MODEL_7a0bb25adeb64a32a93146d1af254772"
          }
        },
        "4be24ae3e30c4529b86177fa3a22c8c8": {
          "model_module": "@jupyter-widgets/controls",
          "model_name": "DescriptionStyleModel",
          "model_module_version": "1.5.0",
          "state": {
            "_view_name": "StyleView",
            "_model_name": "DescriptionStyleModel",
            "description_width": "",
            "_view_module": "@jupyter-widgets/base",
            "_model_module_version": "1.5.0",
            "_view_count": null,
            "_view_module_version": "1.2.0",
            "_model_module": "@jupyter-widgets/controls"
          }
        },
        "44922515c68f4f68a13e54fc8163baee": {
          "model_module": "@jupyter-widgets/base",
          "model_name": "LayoutModel",
          "model_module_version": "1.2.0",
          "state": {
            "_view_name": "LayoutView",
            "grid_template_rows": null,
            "right": null,
            "justify_content": null,
            "_view_module": "@jupyter-widgets/base",
            "overflow": null,
            "_model_module_version": "1.2.0",
            "_view_count": null,
            "flex_flow": null,
            "width": null,
            "min_width": null,
            "border": null,
            "align_items": null,
            "bottom": null,
            "_model_module": "@jupyter-widgets/base",
            "top": null,
            "grid_column": null,
            "overflow_y": null,
            "overflow_x": null,
            "grid_auto_flow": null,
            "grid_area": null,
            "grid_template_columns": null,
            "flex": null,
            "_model_name": "LayoutModel",
            "justify_items": null,
            "grid_row": null,
            "max_height": null,
            "align_content": null,
            "visibility": null,
            "align_self": null,
            "height": null,
            "min_height": null,
            "padding": null,
            "grid_auto_rows": null,
            "grid_gap": null,
            "max_width": null,
            "order": null,
            "_view_module_version": "1.2.0",
            "grid_template_areas": null,
            "object_position": null,
            "object_fit": null,
            "grid_auto_columns": null,
            "margin": null,
            "display": null,
            "left": null
          }
        },
        "4eb00790246840cfb4e1d993d17c3410": {
          "model_module": "@jupyter-widgets/controls",
          "model_name": "ProgressStyleModel",
          "model_module_version": "1.5.0",
          "state": {
            "_view_name": "StyleView",
            "_model_name": "ProgressStyleModel",
            "description_width": "",
            "_view_module": "@jupyter-widgets/base",
            "_model_module_version": "1.5.0",
            "_view_count": null,
            "_view_module_version": "1.2.0",
            "bar_color": null,
            "_model_module": "@jupyter-widgets/controls"
          }
        },
        "81821521c6944db584f0713d95c7133c": {
          "model_module": "@jupyter-widgets/base",
          "model_name": "LayoutModel",
          "model_module_version": "1.2.0",
          "state": {
            "_view_name": "LayoutView",
            "grid_template_rows": null,
            "right": null,
            "justify_content": null,
            "_view_module": "@jupyter-widgets/base",
            "overflow": null,
            "_model_module_version": "1.2.0",
            "_view_count": null,
            "flex_flow": null,
            "width": null,
            "min_width": null,
            "border": null,
            "align_items": null,
            "bottom": null,
            "_model_module": "@jupyter-widgets/base",
            "top": null,
            "grid_column": null,
            "overflow_y": null,
            "overflow_x": null,
            "grid_auto_flow": null,
            "grid_area": null,
            "grid_template_columns": null,
            "flex": null,
            "_model_name": "LayoutModel",
            "justify_items": null,
            "grid_row": null,
            "max_height": null,
            "align_content": null,
            "visibility": null,
            "align_self": null,
            "height": null,
            "min_height": null,
            "padding": null,
            "grid_auto_rows": null,
            "grid_gap": null,
            "max_width": null,
            "order": null,
            "_view_module_version": "1.2.0",
            "grid_template_areas": null,
            "object_position": null,
            "object_fit": null,
            "grid_auto_columns": null,
            "margin": null,
            "display": null,
            "left": null
          }
        },
        "bbb8799a2c494e8f8c90c3fa98e57134": {
          "model_module": "@jupyter-widgets/controls",
          "model_name": "DescriptionStyleModel",
          "model_module_version": "1.5.0",
          "state": {
            "_view_name": "StyleView",
            "_model_name": "DescriptionStyleModel",
            "description_width": "",
            "_view_module": "@jupyter-widgets/base",
            "_model_module_version": "1.5.0",
            "_view_count": null,
            "_view_module_version": "1.2.0",
            "_model_module": "@jupyter-widgets/controls"
          }
        },
        "7a0bb25adeb64a32a93146d1af254772": {
          "model_module": "@jupyter-widgets/base",
          "model_name": "LayoutModel",
          "model_module_version": "1.2.0",
          "state": {
            "_view_name": "LayoutView",
            "grid_template_rows": null,
            "right": null,
            "justify_content": null,
            "_view_module": "@jupyter-widgets/base",
            "overflow": null,
            "_model_module_version": "1.2.0",
            "_view_count": null,
            "flex_flow": null,
            "width": null,
            "min_width": null,
            "border": null,
            "align_items": null,
            "bottom": null,
            "_model_module": "@jupyter-widgets/base",
            "top": null,
            "grid_column": null,
            "overflow_y": null,
            "overflow_x": null,
            "grid_auto_flow": null,
            "grid_area": null,
            "grid_template_columns": null,
            "flex": null,
            "_model_name": "LayoutModel",
            "justify_items": null,
            "grid_row": null,
            "max_height": null,
            "align_content": null,
            "visibility": null,
            "align_self": null,
            "height": null,
            "min_height": null,
            "padding": null,
            "grid_auto_rows": null,
            "grid_gap": null,
            "max_width": null,
            "order": null,
            "_view_module_version": "1.2.0",
            "grid_template_areas": null,
            "object_position": null,
            "object_fit": null,
            "grid_auto_columns": null,
            "margin": null,
            "display": null,
            "left": null
          }
        }
      }
    }
  },
  "cells": [
    {
      "cell_type": "markdown",
      "metadata": {
        "id": "view-in-github",
        "colab_type": "text"
      },
      "source": [
        "<a href=\"https://colab.research.google.com/github/mavillot/FUNSD-Entity-Linking/blob/main/LayoutLM.ipynb\" target=\"_parent\"><img src=\"https://colab.research.google.com/assets/colab-badge.svg\" alt=\"Open In Colab\"/></a>"
      ]
    },
    {
      "cell_type": "markdown",
      "metadata": {
        "id": "eoWYsfAj5KrP"
      },
      "source": [
        "# Modelo de lenguaje"
      ]
    },
    {
      "cell_type": "markdown",
      "metadata": {
        "id": "Jv2NEZ_XAlQ-"
      },
      "source": [
        "## Data preparation"
      ]
    },
    {
      "cell_type": "markdown",
      "metadata": {
        "id": "9jNuJScWvS58"
      },
      "source": [
        "### Dataset:"
      ]
    },
    {
      "cell_type": "code",
      "metadata": {
        "id": "5sZiqEN1tArs"
      },
      "source": [
        "%%capture\n",
        "!wget https://guillaumejaume.github.io/FUNSD/dataset.zip -O dataset.zip\n",
        "!unzip dataset.zip"
      ],
      "execution_count": null,
      "outputs": []
    },
    {
      "cell_type": "markdown",
      "metadata": {
        "id": "K80KuBLOGmhx"
      },
      "source": [
        "### Extracting candidates "
      ]
    },
    {
      "cell_type": "code",
      "metadata": {
        "id": "yYcsCwBK0F6X"
      },
      "source": [
        "import json\n",
        "from pathlib import Path\n",
        "import cv2\n",
        "import numpy as np"
      ],
      "execution_count": null,
      "outputs": []
    },
    {
      "cell_type": "code",
      "metadata": {
        "id": "lgCFh_RnGmiD"
      },
      "source": [
        "def candidates(path):\n",
        "  anot=json.loads(open(path).read())\n",
        "  img=Path(path).stem+'.png'\n",
        "  path_image=Path(path).parent.parent/'images'/img\n",
        "  h,w,_=cv2.imread(str(path_image)).shape\n",
        "  question, answer=[],[]\n",
        "  text={}\n",
        "  for block in anot['form']:\n",
        "    if block['label']=='question':\n",
        "      question.append([block['id'],block['box']])\n",
        "      text[block['id']]=block['text']\n",
        "    if block['label']=='answer':\n",
        "      answer.append([block['id'],block['box']])\n",
        "      text[block['id']]=block['text']\n",
        "  # We have built 2 list with answers and questions' info \n",
        "  #For each answer we look for its question\n",
        "  dic={}\n",
        "  for a in answer:\n",
        "    bbox=a[1]\n",
        "    candidates=[]\n",
        "    candidates_more=[]\n",
        "    x_a=int(bbox[0])\n",
        "    x1_a=int(bbox[2])\n",
        "    y_a=int(bbox[1])\n",
        "    y1_a=int(bbox[3])\n",
        "    pto_a=[(x_a+x1_a)/2,(y_a+y1_a)/2]\n",
        "    for q in question:\n",
        "      bbox=q[1]\n",
        "      x_q=int(bbox[0])\n",
        "      x1_q=int(bbox[2])\n",
        "      y_q=int(bbox[1])\n",
        "      y1_q=int(bbox[3])\n",
        "      pto_q=[(x_q+x1_q)/2,(y_q+y1_q)/2]\n",
        "      if x_q<x1_a+0.05*w and y1_q>y_a-0.1*h and y_q<y1_a+0.01*h:\n",
        "        dist=np.sqrt((x_a-x1_q)**2+(pto_a[1]-pto_q[1])**2)\n",
        "        candidates.append([q[0],dist])\n",
        "      if x_q<x1_a +0.05*w and y1_q>y_a-0.6*h and y_q<y1_a+0.03*h:\n",
        "        dist=np.sqrt((x_a-x1_q)**2+(pto_a[1]-pto_q[1])**2)\n",
        "        candidates_more.append([q[0],dist])\n",
        "    if candidates!=[]:\n",
        "      dic[a[0]]=candidates\n",
        "    else:\n",
        "      dic[a[0]]=candidates_more\n",
        "  return dic,text"
      ],
      "execution_count": null,
      "outputs": []
    },
    {
      "cell_type": "code",
      "metadata": {
        "colab": {
          "base_uri": "https://localhost:8080/"
        },
        "id": "P50Ykdn3GmiF",
        "outputId": "fb1cc5f2-87f2-43c1-d24e-d7b539bedf36"
      },
      "source": [
        "candidates('dataset/training_data/annotations/0000971160.json')"
      ],
      "execution_count": null,
      "outputs": [
        {
          "output_type": "execute_result",
          "data": {
            "text/plain": [
              "({4: [[1, 286.05287972680856],\n",
              "   [3, 41.593268686170845],\n",
              "   [10, 309.0457085934053],\n",
              "   [13, 20.006249023742555],\n",
              "   [15, 293.0959740426334]],\n",
              "  11: [[3, 303.0264014900352], [10, 11.10180165558726]],\n",
              "  12: [[3, 25.243811122728676], [10, 339.1194479825656]],\n",
              "  14: [[1, 11.10180165558726],\n",
              "   [10, 50.835519078691426],\n",
              "   [15, 18.33712082089225]],\n",
              "  16: [[1, 82.76472678623425],\n",
              "   [2, 39.96248240537617],\n",
              "   [3, 349.7802881810237],\n",
              "   [10, 116.84177335182824],\n",
              "   [13, 311.4498354470588],\n",
              "   [15, 78.18567643756751]],\n",
              "  18: [[17, 26.419689627245813]],\n",
              "  21: [[5, 15.402921800749363],\n",
              "   [6, 254.32656172724074],\n",
              "   [7, 333.7813655673426],\n",
              "   [20, 21.587033144922902]],\n",
              "  22: [[5, 118.71394189394942], [20, 112.58885380000989]]},\n",
              " {1: ':',\n",
              "  2: 'Suggestion:',\n",
              "  3: 'Date:',\n",
              "  4: 'Licensee',\n",
              "  5: '',\n",
              "  6: 'Yes',\n",
              "  7: 'No',\n",
              "  10: 'Name / Phone Ext. :',\n",
              "  11: 'M. Hamann P. Harper, P. Martinez',\n",
              "  12: '9/ 3/ 92',\n",
              "  13: 'R&D Group:',\n",
              "  14: 'J. S. Wigand',\n",
              "  15: 'Supervisor / Manager',\n",
              "  16: 'Discontinue coal retention analyses on licensee submitted product samples (Note : Coal Retention testing is not performed by most licensees. Other B&W physical measurements as ends stability and inspection for soft spots in ciparettes are thought to be sufficient measures to assure cigarette physical integrity. The proposed action will increase laboratory productivity . )',\n",
              "  17: 'Suggested Solutions (s) :',\n",
              "  18: 'Delete coal retention from the list of standard analyses performed on licensee submitted product samples. Special requests for coal retention testing could still be submitted on an exception basis.',\n",
              "  20: 'Manager Comments:',\n",
              "  21: 'Manager, please contact suggester and forward',\n",
              "  22: 'comments to the Quality Council.'})"
            ]
          },
          "metadata": {},
          "execution_count": 4
        }
      ]
    },
    {
      "cell_type": "markdown",
      "metadata": {
        "id": "IT5CSGNWK0y8"
      },
      "source": [
        "We rank the candidates according to the distance"
      ]
    },
    {
      "cell_type": "code",
      "metadata": {
        "id": "Wlj81pRnPdEG"
      },
      "source": [
        "from operator import itemgetter"
      ],
      "execution_count": null,
      "outputs": []
    },
    {
      "cell_type": "code",
      "metadata": {
        "id": "yB0B99CmK0cS"
      },
      "source": [
        "def rank(path):\n",
        "  cand,text=candidates(path)\n",
        "  for c in cand:\n",
        "    aux=cand[c]\n",
        "    cand[c]=[l[0] for l in sorted(aux, key=itemgetter(1))]\n",
        "  return cand,text"
      ],
      "execution_count": null,
      "outputs": []
    },
    {
      "cell_type": "code",
      "metadata": {
        "colab": {
          "base_uri": "https://localhost:8080/"
        },
        "id": "xa2BZOTaMfpE",
        "outputId": "d1aa8de0-d0df-4d80-903c-bfbb0dea5e56"
      },
      "source": [
        "rank('dataset/training_data/annotations/0000971160.json')"
      ],
      "execution_count": null,
      "outputs": [
        {
          "output_type": "execute_result",
          "data": {
            "text/plain": [
              "({4: [13, 3, 1, 15, 10],\n",
              "  11: [10, 3],\n",
              "  12: [3, 10],\n",
              "  14: [1, 15, 10],\n",
              "  16: [2, 15, 1, 10, 13, 3],\n",
              "  18: [17],\n",
              "  21: [5, 20, 6, 7],\n",
              "  22: [20, 5]},\n",
              " {1: ':',\n",
              "  2: 'Suggestion:',\n",
              "  3: 'Date:',\n",
              "  4: 'Licensee',\n",
              "  5: '',\n",
              "  6: 'Yes',\n",
              "  7: 'No',\n",
              "  10: 'Name / Phone Ext. :',\n",
              "  11: 'M. Hamann P. Harper, P. Martinez',\n",
              "  12: '9/ 3/ 92',\n",
              "  13: 'R&D Group:',\n",
              "  14: 'J. S. Wigand',\n",
              "  15: 'Supervisor / Manager',\n",
              "  16: 'Discontinue coal retention analyses on licensee submitted product samples (Note : Coal Retention testing is not performed by most licensees. Other B&W physical measurements as ends stability and inspection for soft spots in ciparettes are thought to be sufficient measures to assure cigarette physical integrity. The proposed action will increase laboratory productivity . )',\n",
              "  17: 'Suggested Solutions (s) :',\n",
              "  18: 'Delete coal retention from the list of standard analyses performed on licensee submitted product samples. Special requests for coal retention testing could still be submitted on an exception basis.',\n",
              "  20: 'Manager Comments:',\n",
              "  21: 'Manager, please contact suggester and forward',\n",
              "  22: 'comments to the Quality Council.'})"
            ]
          },
          "metadata": {},
          "execution_count": 7
        }
      ]
    },
    {
      "cell_type": "markdown",
      "metadata": {
        "id": "ofrsuUEuGmiG"
      },
      "source": [
        "We construct now a function that given a path it returns for each answer the candidates, the labels and the text of the questions and answers"
      ]
    },
    {
      "cell_type": "code",
      "metadata": {
        "id": "vqNb6yjyGmiG"
      },
      "source": [
        "def candidatesANDlabels(path):\n",
        "  anot=json.loads(open(path).read())\n",
        "  cand,text=rank(path)\n",
        "  dic_label={}\n",
        "  for block in anot['form']:\n",
        "    if block['label']=='answer':\n",
        "      id=block['id']\n",
        "      id_question=[]\n",
        "      for link in block['linking']:\n",
        "        if link[0]==id:\n",
        "          id_question.append(link[1])\n",
        "        else: id_question.append(link[0])\n",
        "      lista=cand[id]\n",
        "      labels=[lista[i] in id_question for i in range(0,len(lista))]\n",
        "      dic_label[id]=labels\n",
        "  return cand,dic_label,text     "
      ],
      "execution_count": null,
      "outputs": []
    },
    {
      "cell_type": "code",
      "metadata": {
        "colab": {
          "base_uri": "https://localhost:8080/"
        },
        "id": "gBMh6IjYGmiH",
        "outputId": "6c31c08d-4e6b-48fb-f438-837ddc944975"
      },
      "source": [
        "candidatesANDlabels('dataset/training_data/annotations/0000971160.json')"
      ],
      "execution_count": null,
      "outputs": [
        {
          "output_type": "execute_result",
          "data": {
            "text/plain": [
              "({4: [13, 3, 1, 15, 10],\n",
              "  11: [10, 3],\n",
              "  12: [3, 10],\n",
              "  14: [1, 15, 10],\n",
              "  16: [2, 15, 1, 10, 13, 3],\n",
              "  18: [17],\n",
              "  21: [5, 20, 6, 7],\n",
              "  22: [20, 5]},\n",
              " {4: [True, False, False, False, False],\n",
              "  11: [True, False],\n",
              "  12: [True, False],\n",
              "  14: [False, True, False],\n",
              "  16: [True, False, False, False, False, False],\n",
              "  18: [True],\n",
              "  21: [False, True, False, False],\n",
              "  22: [True, False]},\n",
              " {1: ':',\n",
              "  2: 'Suggestion:',\n",
              "  3: 'Date:',\n",
              "  4: 'Licensee',\n",
              "  5: '',\n",
              "  6: 'Yes',\n",
              "  7: 'No',\n",
              "  10: 'Name / Phone Ext. :',\n",
              "  11: 'M. Hamann P. Harper, P. Martinez',\n",
              "  12: '9/ 3/ 92',\n",
              "  13: 'R&D Group:',\n",
              "  14: 'J. S. Wigand',\n",
              "  15: 'Supervisor / Manager',\n",
              "  16: 'Discontinue coal retention analyses on licensee submitted product samples (Note : Coal Retention testing is not performed by most licensees. Other B&W physical measurements as ends stability and inspection for soft spots in ciparettes are thought to be sufficient measures to assure cigarette physical integrity. The proposed action will increase laboratory productivity . )',\n",
              "  17: 'Suggested Solutions (s) :',\n",
              "  18: 'Delete coal retention from the list of standard analyses performed on licensee submitted product samples. Special requests for coal retention testing could still be submitted on an exception basis.',\n",
              "  20: 'Manager Comments:',\n",
              "  21: 'Manager, please contact suggester and forward',\n",
              "  22: 'comments to the Quality Council.'})"
            ]
          },
          "metadata": {},
          "execution_count": 10
        }
      ]
    },
    {
      "cell_type": "markdown",
      "metadata": {
        "id": "7pQub9q-p-w4"
      },
      "source": [
        "### Dataset Class\n",
        "\n",
        "We create this class in order to obtain the dataset we will use for training the BERT model. \n",
        "For each form we extract all the answers and its candidates for question. For each candidate we concatenate its text with the answer text. If the link between those 2 entities exists the label will be: 1 and if it doesn't exist it will be 0."
      ]
    },
    {
      "cell_type": "code",
      "metadata": {
        "id": "eoHvWXOa9sOC"
      },
      "source": [
        "import os\n",
        "class Dataset():\n",
        "    def __init__(self, path_annotation):\n",
        "        self.path_annotation= path_annotation\n",
        "\n",
        "    def __iter__(self):\n",
        "      with os.scandir(self.path_annotation) as files:\n",
        "        for file in files:\n",
        "          yield file.name\n",
        "          \n",
        "    def __len__(self):\n",
        "      i=0\n",
        "      for file in self:\n",
        "        i+=1\n",
        "      return i\n",
        "\n",
        "    def textList(self, o):\n",
        "      path=self.path_annotation+'/'+o\n",
        "      cand,label,text=candidatesANDlabels(path)\n",
        "      question_answer,et=[],[]\n",
        "      dic={True:1,False:0}\n",
        "      for c in cand:\n",
        "        question_answer=question_answer+[text[x]+' '+text[c] for x in cand[c]]\n",
        "        et=et+[dic[z] for z in label[c]]\n",
        "      return question_answer,et\n",
        "    \n",
        "    def preparation(self):\n",
        "      text=[]\n",
        "      label=[]\n",
        "      for file in self:\n",
        "        txt,lbl=self.textList(file)\n",
        "        text=text+txt\n",
        "        label=label+lbl\n",
        "      return (text,label)"
      ],
      "execution_count": null,
      "outputs": []
    },
    {
      "cell_type": "code",
      "metadata": {
        "id": "gZR_FPAk-Jv_"
      },
      "source": [
        "dataset_train=Dataset('dataset/training_data/annotations')\n",
        "dataset_test=Dataset('dataset/testing_data/annotations')"
      ],
      "execution_count": null,
      "outputs": []
    },
    {
      "cell_type": "code",
      "metadata": {
        "id": "D411kM4R-JwA"
      },
      "source": [
        "text_train, labels_train=dataset_train.preparation()\n",
        "text_test, labels_test=dataset_test.preparation()"
      ],
      "execution_count": null,
      "outputs": []
    },
    {
      "cell_type": "code",
      "metadata": {
        "id": "dauKcE4PyLvW"
      },
      "source": [
        "from sklearn.model_selection import train_test_split\n",
        "train_texts, val_texts, train_labels, val_labels = train_test_split(text_train, labels_train, test_size=.2)"
      ],
      "execution_count": null,
      "outputs": []
    },
    {
      "cell_type": "markdown",
      "metadata": {
        "id": "I5rUCbt9R90S"
      },
      "source": [
        "**We check if all the answers have at least one question in their candidates:**"
      ]
    },
    {
      "cell_type": "code",
      "metadata": {
        "colab": {
          "base_uri": "https://localhost:8080/"
        },
        "id": "6FZrZMpBPxfJ",
        "outputId": "b71a8e3e-f61c-4081-c388-56b3815f520f"
      },
      "source": [
        "path='/content/dataset/training_data/annotations/'\n",
        "i=0\n",
        "for f in dataset_train:\n",
        "  f=path+f\n",
        "  cand,_,_=candidatesANDlabels(f)\n",
        "  for c in cand:\n",
        "    if cand[c]==[]:\n",
        "      i+=1\n",
        "print(i)"
      ],
      "execution_count": null,
      "outputs": [
        {
          "output_type": "stream",
          "name": "stdout",
          "text": [
            "0\n"
          ]
        }
      ]
    },
    {
      "cell_type": "markdown",
      "metadata": {
        "id": "9De31K65BFLt"
      },
      "source": [
        "There's no answer without candidates"
      ]
    },
    {
      "cell_type": "markdown",
      "metadata": {
        "id": "ApCMyoP2SQuC"
      },
      "source": [
        "**We check if all the correct questions are in the candidate list of the answer:**"
      ]
    },
    {
      "cell_type": "code",
      "metadata": {
        "colab": {
          "base_uri": "https://localhost:8080/"
        },
        "id": "qhMaLeVXN9Li",
        "outputId": "77dd1657-097a-4fd7-af6b-427fcfd417aa"
      },
      "source": [
        "path='/content/dataset/training_data/annotations/'\n",
        "i,j=0,0\n",
        "for f in dataset_train:\n",
        "  f=path+f\n",
        "  cand,lbl,text=candidatesANDlabels(f)\n",
        "  for k in lbl:\n",
        "    j+=1\n",
        "    if not(True in lbl[k]):\n",
        "      i+=1\n",
        "print(i,j)"
      ],
      "execution_count": null,
      "outputs": [
        {
          "output_type": "stream",
          "name": "stdout",
          "text": [
            "47 2802\n"
          ]
        }
      ]
    },
    {
      "cell_type": "code",
      "metadata": {
        "colab": {
          "base_uri": "https://localhost:8080/"
        },
        "id": "VTvP1DyGTlu-",
        "outputId": "95526101-a99d-4995-b028-b207c89cbda9"
      },
      "source": [
        "47*100/2802"
      ],
      "execution_count": null,
      "outputs": [
        {
          "output_type": "execute_result",
          "data": {
            "text/plain": [
              "1.6773733047822983"
            ]
          },
          "metadata": {},
          "execution_count": 22
        }
      ]
    },
    {
      "cell_type": "markdown",
      "metadata": {
        "id": "tWDWXVLZBPHq"
      },
      "source": [
        "Ther're 47 of the 2802 answers (1.68%) who haven't got their correct question in the candidates"
      ]
    },
    {
      "cell_type": "markdown",
      "metadata": {
        "id": "O0lkdWyJqCKm"
      },
      "source": [
        "### FUNSDataset Class\n",
        "\n",
        "This class helps us to pass the dataset in a format that the model understands."
      ]
    },
    {
      "cell_type": "code",
      "metadata": {
        "id": "5c_k-d9bCKDh"
      },
      "source": [
        "import torch\n",
        "class FUNDSDataset(torch.utils.data.Dataset):\n",
        "    def __init__(self, encodings, labels):\n",
        "        self.encodings = encodings\n",
        "        self.labels = torch.tensor(labels)\n",
        "\n",
        "    def __getitem__(self, idx):\n",
        "        item = {key: torch.tensor(val[idx]) for key, val in self.encodings.items()}\n",
        "        item['labels'] = torch.tensor(self.labels[idx])\n",
        "        return item\n",
        "\n",
        "    def __len__(self):\n",
        "        return len(self.labels)"
      ],
      "execution_count": null,
      "outputs": []
    },
    {
      "cell_type": "markdown",
      "metadata": {
        "id": "FRhb9ps7qNwI"
      },
      "source": [
        "## Modelo"
      ]
    },
    {
      "cell_type": "code",
      "metadata": {
        "id": "28HYwtoMvRkJ"
      },
      "source": [
        "%%capture\n",
        "pip install transformers"
      ],
      "execution_count": null,
      "outputs": []
    },
    {
      "cell_type": "markdown",
      "metadata": {
        "id": "32IDKwgZqLkI"
      },
      "source": [
        "#### Metrics\n",
        "\n",
        "These are the metrics we will be using for training."
      ]
    },
    {
      "cell_type": "code",
      "metadata": {
        "id": "x6HkktDs9R0g"
      },
      "source": [
        "from sklearn.metrics import accuracy_score, precision_recall_fscore_support\n",
        "\n",
        "def compute_metrics(pred):\n",
        "    labels = pred.label_ids\n",
        "    preds = pred.predictions.argmax(-1)\n",
        "    precision, recall, f1, _ = precision_recall_fscore_support(labels, preds, average='binary')\n",
        "    acc = accuracy_score(labels, preds)\n",
        "    return {\n",
        "        'accuracy': acc,\n",
        "        'f1': f1,\n",
        "        'precision': precision,\n",
        "        'recall': recall\n",
        "    }"
      ],
      "execution_count": null,
      "outputs": []
    },
    {
      "cell_type": "markdown",
      "metadata": {
        "id": "T9wsicVwfEb1"
      },
      "source": [
        "##### mAP"
      ]
    },
    {
      "cell_type": "code",
      "metadata": {
        "id": "LsBIeEyEfEb1"
      },
      "source": [
        "import numpy as np\n",
        "from sklearn.metrics import average_precision_score\n",
        "\n",
        "def mAP_x(scores, labels):\n",
        "  m=average_precision_score(labels, scores)\n",
        "  if np.isnan(m):\n",
        "    return 0\n",
        "  else:\n",
        "    return m"
      ],
      "execution_count": null,
      "outputs": []
    },
    {
      "cell_type": "code",
      "metadata": {
        "id": "U4MJSWZKBWOt"
      },
      "source": [
        "def mAP(dataset,coef_FINAL,labels):\n",
        "  i=0\n",
        "  map=[]\n",
        "  for f in dataset:\n",
        "    cand,txt=rank(dataset.path_annotation+ '/' +f)\n",
        "    n=len(cand)\n",
        "    if n>0:\n",
        "      for c in cand:\n",
        "        j=i+len(cand[c])\n",
        "        map.append(mAP_x(coef_FINAL[i:j],labels[i:j]))\n",
        "        i=j\n",
        "  return sum(map)/len(map)"
      ],
      "execution_count": null,
      "outputs": []
    },
    {
      "cell_type": "markdown",
      "metadata": {
        "id": "r0WRFEj8fEb1"
      },
      "source": [
        "##### mRank"
      ]
    },
    {
      "cell_type": "code",
      "metadata": {
        "id": "OHCh3tDCfEb2"
      },
      "source": [
        "import numpy as np\n",
        "def mRank_x(predictions, labels,coef):\n",
        "  if predictions==labels:\n",
        "    return 0\n",
        "  else:\n",
        "    if 1 in labels:\n",
        "      k=labels.index(1)\n",
        "      return sum([c>coef[k] for c in coef])\n",
        "    else:\n",
        "      return len(predictions)"
      ],
      "execution_count": null,
      "outputs": []
    },
    {
      "cell_type": "code",
      "metadata": {
        "id": "I9JKcXaIfEb2"
      },
      "source": [
        "def mRank(dataset,prediction,labels,coef):\n",
        "  mrank=[]\n",
        "  i=0\n",
        "  for f in dataset:\n",
        "    cand,txt=rank(dataset.path_annotation+ '/' +f)\n",
        "    n=len(cand)\n",
        "    if n>0: #comprobamos que el documento tenga algun par clave-valor\n",
        "      for c in cand:\n",
        "        j=i+len(cand[c])\n",
        "        if j!=i:\n",
        "          mrank.append(mRank_x(prediction[i:j],labels[i:j],coef[i:j]))\n",
        "          i=j\n",
        "  return sum(mrank)/len(mrank)"
      ],
      "execution_count": null,
      "outputs": []
    },
    {
      "cell_type": "markdown",
      "metadata": {
        "id": "KELzPZz34PpO"
      },
      "source": [
        "#### Tokenizer and model"
      ]
    },
    {
      "cell_type": "code",
      "metadata": {
        "colab": {
          "base_uri": "https://localhost:8080/",
          "height": 415,
          "referenced_widgets": [
            "d6b5da02214f45d2922ba353c9bb3464",
            "b4513c68537c42a7a219f018de219aeb",
            "20b39231cf094e2cbf0a991decb9c727",
            "9ec20d52f76647df9be6e14fd32210cf",
            "ad83127c2f574b81a6ad1aa28d798c7e",
            "ba118dae0e0c41c2be30a30959ac967a",
            "5962c3a03c1d43efaf4df870dba7f684",
            "ef26189e16704cdda74608bb21f94b9c",
            "ef1914364c074736b0f74b5c7efd1fd9",
            "305b3ad7e69a4cc2b04b5548a6b3ac63",
            "c1326f5c240447c8ad37dd7e4f5674c2",
            "3b9c28b32fb047cda2fc957eb6638cb2",
            "94bd2628d93d4bb588d09b779c33a467",
            "3f1be1fb603a48b1938a7830564ec600",
            "ee88c033316f44a8a204ee33920ebfc3",
            "ef3fd0b04850420795b17228aeb7ff87",
            "bc8f8a12bf4247268d97b366edd269e9",
            "da60e045fe494b3092fe88191f35a660",
            "892002f54ec0471dabb14682448a88e2",
            "27d411b7ac7d40868406a26727040696",
            "7ed1d0a399a64f6d86627ae5d55581aa",
            "c22bbbdda7104d0898b38e19d4e9a291",
            "dfaac4cf96d54505a479e6e64b806670",
            "b93b3421ad8f4324ae6c9b232d938951",
            "57b72005b857435faf8fa52c7ad70c62",
            "1c557c803c0a47cc844b404bcc0b89c5",
            "f9b1e822376f41e3908daeba2664e4dd",
            "5e3fd28dd0d14be8815640f192241903",
            "68c3fb05edb24991bc1ac6811fb4a611",
            "7e4c4d0e73e84f2b9a29036d685c14e1",
            "e57105ce5e5f431db46ae666596107ab",
            "08e9046d22be491db7bd897a5ae1beab",
            "5ffd78d770ac43fdb8199c205af3335d",
            "c139b1bdcfad4dc5a9682c99478c0df9",
            "b04e5763db0c4500b72d42d276cf5810",
            "4b3eba848ec64a10a78b0d87ccbf0409",
            "c863c6bd2b864a6a862b80f59149cd30",
            "2107570780a24617924bf6c4c0974409",
            "0d9c1cd6f3a442fcbaeaa0b089a6f84f",
            "c4691f83410f4625a1925ca8e9b537a5",
            "5c0ecaf43ba247a89879ef675466fc6c",
            "d3a45979f04b4ae4a893177c13343cf6",
            "8f4a1b56ae5845c9908ff9e2fd55a8fc",
            "d8321e447fb84f7e8a7e1b118f5bf8b2",
            "f3f7465174264fccb2b5b9d80b555f9a",
            "a0da95499fb14817b9792a6ed8a5eedc",
            "ff9d11fa0a01467c90f5a54efddf7f24",
            "08e3bdd0c8fd43f9aa01086c4de778eb",
            "422bf94c10034354bf583166d50970e9",
            "d4c63b679adc4db4aec7347897f6d834",
            "01b1d82d382647c48ae25bd61f5290e7",
            "5a82cc90f1f04cfc955bf20cf1845cdf",
            "8e7531516dfb4144b301497b26dd0a35",
            "66c6c78f5aad488ba462d4bd803eeff1",
            "fe88811a576d4bd69e5e9508b4f52e11",
            "7ef9e6ea4dc34c0baf629244ba7e59e3",
            "a548dad4ed404b0a99fecd637e222307",
            "1342f2653c36443589947f983086a1cf",
            "ec1c3f97b0cb40d592b4a29cfebd80ce",
            "c937f89cf44f4901889570f62e338ad0",
            "4be24ae3e30c4529b86177fa3a22c8c8",
            "44922515c68f4f68a13e54fc8163baee",
            "4eb00790246840cfb4e1d993d17c3410",
            "81821521c6944db584f0713d95c7133c",
            "bbb8799a2c494e8f8c90c3fa98e57134",
            "7a0bb25adeb64a32a93146d1af254772"
          ]
        },
        "id": "MiLQH8EYrIDM",
        "outputId": "11639fe4-2dfb-4e4c-fe0a-2d7cfe5f90f0"
      },
      "source": [
        "from transformers import BertForSequenceClassification,AutoTokenizer,Trainer, TrainingArguments\n",
        "tokenizer = AutoTokenizer.from_pretrained('microsoft/layoutlm-base-uncased')\n",
        "model = BertForSequenceClassification.from_pretrained('microsoft/layoutlm-base-uncased', num_labels=2)"
      ],
      "execution_count": null,
      "outputs": [
        {
          "output_type": "display_data",
          "data": {
            "application/vnd.jupyter.widget-view+json": {
              "model_id": "d6b5da02214f45d2922ba353c9bb3464",
              "version_minor": 0,
              "version_major": 2
            },
            "text/plain": [
              "Downloading:   0%|          | 0.00/170 [00:00<?, ?B/s]"
            ]
          },
          "metadata": {}
        },
        {
          "output_type": "display_data",
          "data": {
            "application/vnd.jupyter.widget-view+json": {
              "model_id": "3b9c28b32fb047cda2fc957eb6638cb2",
              "version_minor": 0,
              "version_major": 2
            },
            "text/plain": [
              "Downloading:   0%|          | 0.00/606 [00:00<?, ?B/s]"
            ]
          },
          "metadata": {}
        },
        {
          "output_type": "display_data",
          "data": {
            "application/vnd.jupyter.widget-view+json": {
              "model_id": "dfaac4cf96d54505a479e6e64b806670",
              "version_minor": 0,
              "version_major": 2
            },
            "text/plain": [
              "Downloading:   0%|          | 0.00/226k [00:00<?, ?B/s]"
            ]
          },
          "metadata": {}
        },
        {
          "output_type": "display_data",
          "data": {
            "application/vnd.jupyter.widget-view+json": {
              "model_id": "c139b1bdcfad4dc5a9682c99478c0df9",
              "version_minor": 0,
              "version_major": 2
            },
            "text/plain": [
              "Downloading:   0%|          | 0.00/455k [00:00<?, ?B/s]"
            ]
          },
          "metadata": {}
        },
        {
          "output_type": "display_data",
          "data": {
            "application/vnd.jupyter.widget-view+json": {
              "model_id": "f3f7465174264fccb2b5b9d80b555f9a",
              "version_minor": 0,
              "version_major": 2
            },
            "text/plain": [
              "Downloading:   0%|          | 0.00/112 [00:00<?, ?B/s]"
            ]
          },
          "metadata": {}
        },
        {
          "output_type": "stream",
          "name": "stderr",
          "text": [
            "You are using a model of type layoutlm to instantiate a model of type bert. This is not supported for all configurations of models and can yield errors.\n"
          ]
        },
        {
          "output_type": "display_data",
          "data": {
            "application/vnd.jupyter.widget-view+json": {
              "model_id": "7ef9e6ea4dc34c0baf629244ba7e59e3",
              "version_minor": 0,
              "version_major": 2
            },
            "text/plain": [
              "Downloading:   0%|          | 0.00/432M [00:00<?, ?B/s]"
            ]
          },
          "metadata": {}
        },
        {
          "output_type": "stream",
          "name": "stderr",
          "text": [
            "Some weights of the model checkpoint at microsoft/layoutlm-base-uncased were not used when initializing BertForSequenceClassification: ['layoutlm.encoder.layer.6.attention.self.value.bias', 'layoutlm.embeddings.word_embeddings.weight', 'layoutlm.encoder.layer.3.attention.output.LayerNorm.bias', 'layoutlm.encoder.layer.6.attention.self.key.weight', 'layoutlm.encoder.layer.2.attention.self.query.weight', 'layoutlm.encoder.layer.10.attention.self.key.bias', 'layoutlm.encoder.layer.10.output.dense.weight', 'layoutlm.encoder.layer.6.attention.output.dense.bias', 'layoutlm.encoder.layer.2.attention.self.key.weight', 'layoutlm.encoder.layer.8.output.LayerNorm.weight', 'layoutlm.embeddings.y_position_embeddings.weight', 'layoutlm.encoder.layer.11.attention.output.dense.weight', 'layoutlm.embeddings.token_type_embeddings.weight', 'layoutlm.encoder.layer.8.attention.self.key.weight', 'layoutlm.encoder.layer.6.attention.self.query.bias', 'layoutlm.encoder.layer.0.attention.output.dense.weight', 'layoutlm.embeddings.x_position_embeddings.weight', 'layoutlm.encoder.layer.9.output.LayerNorm.weight', 'layoutlm.encoder.layer.1.attention.output.LayerNorm.weight', 'layoutlm.encoder.layer.7.attention.self.key.weight', 'layoutlm.encoder.layer.5.attention.self.query.weight', 'layoutlm.encoder.layer.5.attention.self.key.bias', 'layoutlm.encoder.layer.8.output.dense.bias', 'layoutlm.encoder.layer.1.attention.self.query.bias', 'layoutlm.encoder.layer.7.output.dense.bias', 'layoutlm.encoder.layer.8.attention.self.value.weight', 'layoutlm.encoder.layer.2.output.dense.bias', 'layoutlm.encoder.layer.2.output.dense.weight', 'layoutlm.encoder.layer.6.attention.output.LayerNorm.weight', 'layoutlm.encoder.layer.9.attention.self.key.weight', 'layoutlm.encoder.layer.10.attention.self.query.bias', 'layoutlm.embeddings.w_position_embeddings.weight', 'layoutlm.encoder.layer.3.output.dense.bias', 'layoutlm.encoder.layer.11.intermediate.dense.weight', 'layoutlm.encoder.layer.9.attention.self.value.bias', 'layoutlm.encoder.layer.9.attention.self.key.bias', 'cls.predictions.decoder.bias', 'layoutlm.encoder.layer.7.output.LayerNorm.weight', 'layoutlm.encoder.layer.0.output.dense.weight', 'layoutlm.encoder.layer.4.attention.output.LayerNorm.weight', 'layoutlm.encoder.layer.9.output.LayerNorm.bias', 'layoutlm.encoder.layer.2.attention.output.LayerNorm.bias', 'layoutlm.encoder.layer.0.attention.self.query.weight', 'layoutlm.encoder.layer.2.attention.output.dense.bias', 'layoutlm.encoder.layer.5.output.dense.bias', 'layoutlm.encoder.layer.7.attention.self.value.bias', 'layoutlm.encoder.layer.5.attention.output.LayerNorm.bias', 'layoutlm.encoder.layer.9.intermediate.dense.bias', 'layoutlm.encoder.layer.9.attention.output.dense.bias', 'layoutlm.encoder.layer.0.intermediate.dense.weight', 'layoutlm.encoder.layer.4.attention.self.value.bias', 'layoutlm.encoder.layer.7.intermediate.dense.bias', 'layoutlm.encoder.layer.8.attention.output.LayerNorm.weight', 'layoutlm.embeddings.position_embeddings.weight', 'layoutlm.encoder.layer.1.output.dense.weight', 'layoutlm.encoder.layer.1.output.LayerNorm.weight', 'layoutlm.encoder.layer.4.attention.output.dense.bias', 'layoutlm.encoder.layer.4.attention.self.key.weight', 'layoutlm.encoder.layer.3.attention.self.value.weight', 'layoutlm.encoder.layer.7.attention.self.query.bias', 'layoutlm.encoder.layer.2.output.LayerNorm.bias', 'layoutlm.encoder.layer.4.intermediate.dense.weight', 'layoutlm.encoder.layer.6.attention.self.value.weight', 'layoutlm.encoder.layer.5.attention.self.value.weight', 'layoutlm.encoder.layer.8.intermediate.dense.weight', 'layoutlm.encoder.layer.8.intermediate.dense.bias', 'layoutlm.encoder.layer.11.output.dense.weight', 'layoutlm.embeddings.position_ids', 'layoutlm.encoder.layer.4.attention.output.LayerNorm.bias', 'layoutlm.encoder.layer.8.output.dense.weight', 'layoutlm.encoder.layer.6.attention.output.LayerNorm.bias', 'cls.predictions.transform.LayerNorm.bias', 'layoutlm.encoder.layer.8.attention.self.value.bias', 'layoutlm.encoder.layer.0.attention.self.key.bias', 'layoutlm.encoder.layer.0.output.LayerNorm.bias', 'layoutlm.pooler.dense.bias', 'layoutlm.encoder.layer.11.attention.output.LayerNorm.weight', 'layoutlm.encoder.layer.5.attention.self.key.weight', 'layoutlm.encoder.layer.9.attention.output.LayerNorm.bias', 'layoutlm.encoder.layer.8.attention.output.dense.weight', 'layoutlm.encoder.layer.11.attention.output.dense.bias', 'layoutlm.encoder.layer.3.output.LayerNorm.bias', 'layoutlm.encoder.layer.0.attention.self.value.bias', 'layoutlm.encoder.layer.7.attention.output.dense.bias', 'layoutlm.encoder.layer.1.attention.self.value.weight', 'layoutlm.encoder.layer.4.attention.self.query.bias', 'layoutlm.encoder.layer.0.intermediate.dense.bias', 'layoutlm.encoder.layer.6.intermediate.dense.weight', 'layoutlm.encoder.layer.0.attention.self.key.weight', 'layoutlm.encoder.layer.0.output.dense.bias', 'layoutlm.encoder.layer.8.attention.self.query.bias', 'layoutlm.encoder.layer.9.attention.self.query.weight', 'layoutlm.encoder.layer.1.intermediate.dense.weight', 'layoutlm.encoder.layer.3.attention.output.LayerNorm.weight', 'cls.predictions.transform.LayerNorm.weight', 'layoutlm.encoder.layer.10.intermediate.dense.bias', 'layoutlm.encoder.layer.2.attention.self.value.bias', 'layoutlm.encoder.layer.7.attention.output.LayerNorm.weight', 'layoutlm.encoder.layer.0.attention.self.query.bias', 'layoutlm.encoder.layer.5.output.LayerNorm.weight', 'layoutlm.embeddings.LayerNorm.weight', 'layoutlm.encoder.layer.3.intermediate.dense.weight', 'layoutlm.encoder.layer.8.attention.output.dense.bias', 'layoutlm.encoder.layer.1.attention.self.key.bias', 'layoutlm.encoder.layer.1.attention.self.value.bias', 'layoutlm.encoder.layer.3.attention.output.dense.weight', 'cls.predictions.decoder.weight', 'layoutlm.encoder.layer.9.intermediate.dense.weight', 'layoutlm.encoder.layer.5.output.dense.weight', 'layoutlm.encoder.layer.4.output.LayerNorm.weight', 'layoutlm.encoder.layer.7.attention.output.LayerNorm.bias', 'layoutlm.encoder.layer.11.intermediate.dense.bias', 'layoutlm.encoder.layer.2.attention.self.value.weight', 'layoutlm.encoder.layer.11.output.LayerNorm.bias', 'layoutlm.encoder.layer.7.output.LayerNorm.bias', 'layoutlm.encoder.layer.5.intermediate.dense.weight', 'layoutlm.encoder.layer.2.attention.output.dense.weight', 'layoutlm.encoder.layer.10.output.LayerNorm.bias', 'layoutlm.encoder.layer.5.attention.output.LayerNorm.weight', 'layoutlm.encoder.layer.4.attention.self.key.bias', 'layoutlm.encoder.layer.11.attention.self.key.bias', 'layoutlm.encoder.layer.7.attention.self.query.weight', 'layoutlm.encoder.layer.3.attention.self.key.bias', 'layoutlm.encoder.layer.7.intermediate.dense.weight', 'layoutlm.encoder.layer.11.attention.output.LayerNorm.bias', 'layoutlm.encoder.layer.11.attention.self.value.bias', 'layoutlm.encoder.layer.6.intermediate.dense.bias', 'layoutlm.pooler.dense.weight', 'layoutlm.encoder.layer.0.attention.output.LayerNorm.weight', 'layoutlm.encoder.layer.8.attention.output.LayerNorm.bias', 'layoutlm.encoder.layer.9.output.dense.bias', 'layoutlm.encoder.layer.1.attention.self.query.weight', 'layoutlm.encoder.layer.3.output.dense.weight', 'layoutlm.encoder.layer.3.attention.output.dense.bias', 'layoutlm.encoder.layer.4.attention.self.query.weight', 'layoutlm.encoder.layer.6.output.dense.weight', 'layoutlm.encoder.layer.11.attention.self.value.weight', 'layoutlm.encoder.layer.11.output.LayerNorm.weight', 'layoutlm.encoder.layer.3.attention.self.query.weight', 'layoutlm.encoder.layer.3.attention.self.query.bias', 'layoutlm.encoder.layer.1.intermediate.dense.bias', 'layoutlm.encoder.layer.4.output.LayerNorm.bias', 'layoutlm.encoder.layer.2.intermediate.dense.weight', 'layoutlm.encoder.layer.5.attention.self.query.bias', 'layoutlm.encoder.layer.8.attention.self.query.weight', 'layoutlm.encoder.layer.3.attention.self.key.weight', 'layoutlm.encoder.layer.8.output.LayerNorm.bias', 'layoutlm.encoder.layer.10.attention.self.query.weight', 'layoutlm.encoder.layer.0.attention.output.LayerNorm.bias', 'layoutlm.encoder.layer.2.attention.output.LayerNorm.weight', 'layoutlm.encoder.layer.5.attention.output.dense.weight', 'layoutlm.encoder.layer.5.intermediate.dense.bias', 'layoutlm.encoder.layer.7.attention.self.value.weight', 'layoutlm.embeddings.h_position_embeddings.weight', 'layoutlm.encoder.layer.1.output.LayerNorm.bias', 'layoutlm.encoder.layer.6.attention.output.dense.weight', 'layoutlm.encoder.layer.4.attention.self.value.weight', 'layoutlm.encoder.layer.10.attention.output.dense.bias', 'layoutlm.encoder.layer.11.attention.self.query.weight', 'layoutlm.encoder.layer.0.attention.self.value.weight', 'layoutlm.encoder.layer.10.attention.self.value.bias', 'layoutlm.encoder.layer.10.attention.output.LayerNorm.bias', 'layoutlm.encoder.layer.2.intermediate.dense.bias', 'layoutlm.encoder.layer.7.attention.self.key.bias', 'layoutlm.embeddings.LayerNorm.bias', 'layoutlm.encoder.layer.1.attention.output.dense.weight', 'layoutlm.encoder.layer.2.output.LayerNorm.weight', 'layoutlm.encoder.layer.6.output.LayerNorm.bias', 'layoutlm.encoder.layer.10.intermediate.dense.weight', 'layoutlm.encoder.layer.5.attention.self.value.bias', 'layoutlm.encoder.layer.3.intermediate.dense.bias', 'cls.predictions.transform.dense.bias', 'layoutlm.encoder.layer.5.output.LayerNorm.bias', 'layoutlm.encoder.layer.8.attention.self.key.bias', 'layoutlm.encoder.layer.0.output.LayerNorm.weight', 'layoutlm.encoder.layer.9.attention.output.LayerNorm.weight', 'layoutlm.encoder.layer.1.attention.self.key.weight', 'layoutlm.encoder.layer.4.output.dense.weight', 'layoutlm.encoder.layer.9.attention.self.query.bias', 'layoutlm.encoder.layer.1.output.dense.bias', 'layoutlm.encoder.layer.9.output.dense.weight', 'layoutlm.encoder.layer.6.output.dense.bias', 'layoutlm.encoder.layer.6.output.LayerNorm.weight', 'layoutlm.encoder.layer.10.attention.output.dense.weight', 'layoutlm.encoder.layer.11.attention.self.key.weight', 'cls.predictions.transform.dense.weight', 'layoutlm.encoder.layer.2.attention.self.query.bias', 'layoutlm.encoder.layer.7.attention.output.dense.weight', 'layoutlm.encoder.layer.1.attention.output.LayerNorm.bias', 'layoutlm.encoder.layer.4.output.dense.bias', 'layoutlm.encoder.layer.11.attention.self.query.bias', 'layoutlm.encoder.layer.11.output.dense.bias', 'layoutlm.encoder.layer.10.attention.output.LayerNorm.weight', 'layoutlm.encoder.layer.4.intermediate.dense.bias', 'layoutlm.encoder.layer.10.attention.self.value.weight', 'layoutlm.encoder.layer.6.attention.self.key.bias', 'layoutlm.encoder.layer.7.output.dense.weight', 'layoutlm.encoder.layer.2.attention.self.key.bias', 'layoutlm.encoder.layer.3.attention.self.value.bias', 'layoutlm.encoder.layer.3.output.LayerNorm.weight', 'layoutlm.encoder.layer.4.attention.output.dense.weight', 'layoutlm.encoder.layer.9.attention.self.value.weight', 'layoutlm.encoder.layer.9.attention.output.dense.weight', 'layoutlm.encoder.layer.10.attention.self.key.weight', 'layoutlm.encoder.layer.0.attention.output.dense.bias', 'layoutlm.encoder.layer.6.attention.self.query.weight', 'layoutlm.encoder.layer.10.output.dense.bias', 'layoutlm.encoder.layer.1.attention.output.dense.bias', 'layoutlm.encoder.layer.5.attention.output.dense.bias', 'layoutlm.encoder.layer.10.output.LayerNorm.weight', 'cls.predictions.bias']\n",
            "- This IS expected if you are initializing BertForSequenceClassification from the checkpoint of a model trained on another task or with another architecture (e.g. initializing a BertForSequenceClassification model from a BertForPreTraining model).\n",
            "- This IS NOT expected if you are initializing BertForSequenceClassification from the checkpoint of a model that you expect to be exactly identical (initializing a BertForSequenceClassification model from a BertForSequenceClassification model).\n",
            "Some weights of BertForSequenceClassification were not initialized from the model checkpoint at microsoft/layoutlm-base-uncased and are newly initialized: ['encoder.layer.10.intermediate.dense.weight', 'encoder.layer.10.attention.self.query.weight', 'encoder.layer.6.attention.self.key.weight', 'encoder.layer.7.attention.self.query.weight', 'encoder.layer.3.attention.self.value.bias', 'encoder.layer.7.output.dense.weight', 'encoder.layer.6.attention.self.key.bias', 'encoder.layer.2.attention.self.query.weight', 'embeddings.word_embeddings.weight', 'encoder.layer.0.attention.output.LayerNorm.bias', 'encoder.layer.9.attention.self.value.weight', 'encoder.layer.7.attention.output.dense.weight', 'encoder.layer.1.attention.self.query.bias', 'encoder.layer.10.attention.self.key.bias', 'encoder.layer.2.attention.self.value.bias', 'encoder.layer.5.attention.self.key.bias', 'encoder.layer.1.attention.self.key.bias', 'encoder.layer.3.output.LayerNorm.weight', 'encoder.layer.8.attention.output.dense.bias', 'encoder.layer.2.intermediate.dense.weight', 'encoder.layer.5.attention.self.query.weight', 'encoder.layer.2.attention.output.LayerNorm.weight', 'encoder.layer.9.attention.output.dense.bias', 'encoder.layer.3.output.LayerNorm.bias', 'encoder.layer.0.attention.self.value.weight', 'encoder.layer.11.attention.self.key.bias', 'encoder.layer.7.output.LayerNorm.weight', 'encoder.layer.10.attention.self.value.bias', 'encoder.layer.1.attention.self.key.weight', 'encoder.layer.5.intermediate.dense.weight', 'encoder.layer.4.attention.self.key.weight', 'encoder.layer.4.output.dense.weight', 'encoder.layer.6.attention.output.LayerNorm.bias', 'encoder.layer.5.attention.output.dense.bias', 'encoder.layer.0.output.LayerNorm.bias', 'encoder.layer.2.attention.self.query.bias', 'encoder.layer.1.intermediate.dense.weight', 'encoder.layer.8.attention.self.key.bias', 'encoder.layer.5.attention.self.value.weight', 'encoder.layer.7.attention.self.value.weight', 'encoder.layer.7.attention.self.key.bias', 'encoder.layer.6.attention.self.query.weight', 'encoder.layer.8.attention.self.query.bias', 'encoder.layer.9.attention.self.query.bias', 'encoder.layer.9.intermediate.dense.weight', 'encoder.layer.11.attention.self.key.weight', 'encoder.layer.3.attention.output.LayerNorm.weight', 'encoder.layer.4.output.dense.bias', 'encoder.layer.8.output.LayerNorm.bias', 'encoder.layer.6.output.LayerNorm.bias', 'encoder.layer.5.output.LayerNorm.weight', 'encoder.layer.1.intermediate.dense.bias', 'encoder.layer.7.attention.output.dense.bias', 'encoder.layer.2.attention.output.dense.weight', 'encoder.layer.2.output.dense.weight', 'encoder.layer.5.intermediate.dense.bias', 'encoder.layer.9.attention.self.key.weight', 'encoder.layer.6.attention.self.value.weight', 'encoder.layer.11.attention.output.dense.bias', 'encoder.layer.10.output.dense.weight', 'encoder.layer.7.attention.output.LayerNorm.bias', 'encoder.layer.8.intermediate.dense.weight', 'encoder.layer.0.intermediate.dense.weight', 'encoder.layer.6.output.dense.bias', 'encoder.layer.6.attention.output.dense.bias', 'encoder.layer.8.attention.self.query.weight', 'encoder.layer.9.attention.self.key.bias', 'encoder.layer.9.attention.output.LayerNorm.bias', 'encoder.layer.11.intermediate.dense.weight', 'encoder.layer.11.output.LayerNorm.bias', 'encoder.layer.10.intermediate.dense.bias', 'encoder.layer.9.intermediate.dense.bias', 'encoder.layer.0.attention.self.key.weight', 'encoder.layer.4.attention.self.value.weight', 'encoder.layer.0.intermediate.dense.bias', 'encoder.layer.3.attention.self.query.weight', 'encoder.layer.7.intermediate.dense.bias', 'encoder.layer.0.attention.output.dense.bias', 'encoder.layer.11.attention.output.LayerNorm.weight', 'encoder.layer.4.attention.self.key.bias', 'encoder.layer.4.attention.self.value.bias', 'encoder.layer.3.attention.self.key.weight', 'encoder.layer.2.output.LayerNorm.weight', 'encoder.layer.0.attention.self.query.weight', 'encoder.layer.1.attention.output.LayerNorm.bias', 'encoder.layer.3.intermediate.dense.weight', 'encoder.layer.8.output.dense.bias', 'encoder.layer.3.attention.output.dense.weight', 'encoder.layer.6.attention.self.value.bias', 'encoder.layer.3.attention.output.LayerNorm.bias', 'classifier.bias', 'encoder.layer.7.output.dense.bias', 'encoder.layer.6.intermediate.dense.weight', 'encoder.layer.4.attention.output.dense.bias', 'encoder.layer.7.attention.output.LayerNorm.weight', 'encoder.layer.3.attention.self.query.bias', 'encoder.layer.5.attention.self.query.bias', 'encoder.layer.5.attention.output.dense.weight', 'encoder.layer.6.attention.self.query.bias', 'encoder.layer.4.attention.self.query.weight', 'encoder.layer.6.attention.output.LayerNorm.weight', 'encoder.layer.11.output.LayerNorm.weight', 'encoder.layer.7.output.LayerNorm.bias', 'encoder.layer.10.output.LayerNorm.weight', 'encoder.layer.2.attention.self.key.weight', 'encoder.layer.9.attention.output.dense.weight', 'encoder.layer.2.attention.output.dense.bias', 'encoder.layer.1.output.LayerNorm.bias', 'encoder.layer.1.attention.output.dense.bias', 'encoder.layer.4.attention.output.dense.weight', 'encoder.layer.0.attention.self.key.bias', 'encoder.layer.3.output.dense.bias', 'encoder.layer.6.attention.output.dense.weight', 'encoder.layer.8.attention.self.key.weight', 'encoder.layer.9.attention.self.query.weight', 'encoder.layer.11.attention.self.value.bias', 'encoder.layer.7.attention.self.key.weight', 'encoder.layer.10.attention.output.dense.weight', 'encoder.layer.11.intermediate.dense.bias', 'encoder.layer.2.attention.self.value.weight', 'encoder.layer.9.output.LayerNorm.weight', 'encoder.layer.1.output.dense.bias', 'encoder.layer.4.attention.output.LayerNorm.weight', 'encoder.layer.10.attention.self.value.weight', 'encoder.layer.2.output.dense.bias', 'encoder.layer.4.intermediate.dense.bias', 'encoder.layer.8.output.LayerNorm.weight', 'encoder.layer.1.attention.self.value.weight', 'encoder.layer.10.attention.output.LayerNorm.bias', 'encoder.layer.2.output.LayerNorm.bias', 'encoder.layer.5.attention.self.key.weight', 'encoder.layer.2.attention.self.key.bias', 'encoder.layer.3.output.dense.weight', 'encoder.layer.8.intermediate.dense.bias', 'encoder.layer.3.attention.self.value.weight', 'encoder.layer.8.attention.output.dense.weight', 'encoder.layer.10.output.dense.bias', 'encoder.layer.10.output.LayerNorm.bias', 'encoder.layer.1.attention.output.dense.weight', 'encoder.layer.9.attention.output.LayerNorm.weight', 'encoder.layer.5.attention.self.value.bias', 'encoder.layer.4.attention.output.LayerNorm.bias', 'encoder.layer.5.output.LayerNorm.bias', 'pooler.dense.bias', 'encoder.layer.1.output.LayerNorm.weight', 'encoder.layer.10.attention.output.dense.bias', 'encoder.layer.11.output.dense.bias', 'encoder.layer.5.attention.output.LayerNorm.bias', 'encoder.layer.4.attention.self.query.bias', 'embeddings.position_embeddings.weight', 'encoder.layer.11.attention.output.LayerNorm.bias', 'encoder.layer.11.attention.self.value.weight', 'encoder.layer.8.attention.output.LayerNorm.weight', 'classifier.weight', 'encoder.layer.9.output.dense.weight', 'pooler.dense.weight', 'encoder.layer.0.attention.output.dense.weight', 'encoder.layer.0.attention.output.LayerNorm.weight', 'encoder.layer.8.attention.output.LayerNorm.bias', 'encoder.layer.4.output.LayerNorm.bias', 'encoder.layer.6.intermediate.dense.bias', 'encoder.layer.4.intermediate.dense.weight', 'encoder.layer.7.attention.self.query.bias', 'embeddings.LayerNorm.weight', 'encoder.layer.10.attention.self.key.weight', 'encoder.layer.9.attention.self.value.bias', 'encoder.layer.11.output.dense.weight', 'encoder.layer.11.attention.self.query.bias', 'encoder.layer.9.output.LayerNorm.bias', 'encoder.layer.10.attention.self.query.bias', 'encoder.layer.10.attention.output.LayerNorm.weight', 'encoder.layer.11.attention.self.query.weight', 'encoder.layer.0.attention.self.query.bias', 'encoder.layer.11.attention.output.dense.weight', 'encoder.layer.5.attention.output.LayerNorm.weight', 'encoder.layer.0.output.LayerNorm.weight', 'encoder.layer.9.output.dense.bias', 'encoder.layer.3.intermediate.dense.bias', 'encoder.layer.8.attention.self.value.bias', 'encoder.layer.8.output.dense.weight', 'encoder.layer.0.attention.self.value.bias', 'encoder.layer.8.attention.self.value.weight', 'encoder.layer.1.output.dense.weight', 'encoder.layer.2.attention.output.LayerNorm.bias', 'encoder.layer.7.intermediate.dense.weight', 'encoder.layer.1.attention.output.LayerNorm.weight', 'encoder.layer.5.output.dense.bias', 'encoder.layer.0.output.dense.weight', 'encoder.layer.1.attention.self.query.weight', 'encoder.layer.0.output.dense.bias', 'encoder.layer.4.output.LayerNorm.weight', 'encoder.layer.3.attention.output.dense.bias', 'encoder.layer.7.attention.self.value.bias', 'encoder.layer.3.attention.self.key.bias', 'encoder.layer.5.output.dense.weight', 'encoder.layer.6.output.LayerNorm.weight', 'encoder.layer.1.attention.self.value.bias', 'encoder.layer.2.intermediate.dense.bias', 'embeddings.LayerNorm.bias', 'embeddings.token_type_embeddings.weight', 'encoder.layer.6.output.dense.weight']\n",
            "You should probably TRAIN this model on a down-stream task to be able to use it for predictions and inference.\n"
          ]
        }
      ]
    },
    {
      "cell_type": "code",
      "metadata": {
        "id": "kkxiYYbVfQC9"
      },
      "source": [
        "train_encodings = tokenizer(train_texts, truncation=True, padding=True)\n",
        "val_encodings = tokenizer(val_texts, truncation=True, padding=True)\n",
        "test_encodings = tokenizer(text_test, truncation=True, padding=True)"
      ],
      "execution_count": null,
      "outputs": []
    },
    {
      "cell_type": "code",
      "metadata": {
        "id": "PXS453SVfQC-"
      },
      "source": [
        "train_dataset = FUNDSDataset(train_encodings, train_labels)\n",
        "val_dataset = FUNDSDataset(val_encodings, val_labels)\n",
        "test_dataset = FUNDSDataset(test_encodings, labels_test)"
      ],
      "execution_count": null,
      "outputs": []
    },
    {
      "cell_type": "markdown",
      "metadata": {
        "id": "4QyIy88yfVJ_"
      },
      "source": [
        "#### Training arguments:"
      ]
    },
    {
      "cell_type": "code",
      "metadata": {
        "id": "oM9OAKa5pvVM"
      },
      "source": [
        "args = TrainingArguments(\n",
        "    output_dir='./results',\n",
        "    evaluation_strategy = \"epoch\",\n",
        "    save_strategy='epoch',\n",
        "    learning_rate=2e-5,\n",
        "    per_device_train_batch_size=32,\n",
        "    per_device_eval_batch_size=16,\n",
        "    num_train_epochs=6,\n",
        "    weight_decay=0.01,\n",
        "    load_best_model_at_end=True,\n",
        "    metric_for_best_model='f1',\n",
        ")"
      ],
      "execution_count": null,
      "outputs": []
    },
    {
      "cell_type": "code",
      "metadata": {
        "id": "SfeAlTPlpvVM"
      },
      "source": [
        "trainer = Trainer(\n",
        "    model,\n",
        "    args,\n",
        "    train_dataset=train_dataset,\n",
        "    eval_dataset=val_dataset,\n",
        "    tokenizer=tokenizer,\n",
        "    compute_metrics=compute_metrics\n",
        ")"
      ],
      "execution_count": null,
      "outputs": []
    },
    {
      "cell_type": "markdown",
      "metadata": {
        "id": "yjg7t3vaftN5"
      },
      "source": [
        "#### Training"
      ]
    },
    {
      "cell_type": "code",
      "metadata": {
        "colab": {
          "base_uri": "https://localhost:8080/",
          "height": 1000
        },
        "id": "v-bhukt2pvVN",
        "outputId": "84246567-3c4d-43ff-8053-03b2c5c94514"
      },
      "source": [
        "trainer.train() "
      ],
      "execution_count": null,
      "outputs": [
        {
          "output_type": "stream",
          "name": "stderr",
          "text": [
            "***** Running training *****\n",
            "  Num examples = 10502\n",
            "  Num Epochs = 6\n",
            "  Instantaneous batch size per device = 32\n",
            "  Total train batch size (w. parallel, distributed & accumulation) = 32\n",
            "  Gradient Accumulation steps = 1\n",
            "  Total optimization steps = 1974\n",
            "/usr/local/lib/python3.7/dist-packages/ipykernel_launcher.py:9: UserWarning: To copy construct from a tensor, it is recommended to use sourceTensor.clone().detach() or sourceTensor.clone().detach().requires_grad_(True), rather than torch.tensor(sourceTensor).\n",
            "  if __name__ == '__main__':\n"
          ]
        },
        {
          "output_type": "display_data",
          "data": {
            "text/html": [
              "\n",
              "    <div>\n",
              "      \n",
              "      <progress value='1974' max='1974' style='width:300px; height:20px; vertical-align: middle;'></progress>\n",
              "      [1974/1974 49:21, Epoch 6/6]\n",
              "    </div>\n",
              "    <table border=\"1\" class=\"dataframe\">\n",
              "  <thead>\n",
              "    <tr style=\"text-align: left;\">\n",
              "      <th>Epoch</th>\n",
              "      <th>Training Loss</th>\n",
              "      <th>Validation Loss</th>\n",
              "      <th>Accuracy</th>\n",
              "      <th>F1</th>\n",
              "      <th>Precision</th>\n",
              "      <th>Recall</th>\n",
              "    </tr>\n",
              "  </thead>\n",
              "  <tbody>\n",
              "    <tr>\n",
              "      <td>1</td>\n",
              "      <td>No log</td>\n",
              "      <td>0.520360</td>\n",
              "      <td>0.784844</td>\n",
              "      <td>0.000000</td>\n",
              "      <td>0.000000</td>\n",
              "      <td>0.000000</td>\n",
              "    </tr>\n",
              "    <tr>\n",
              "      <td>2</td>\n",
              "      <td>0.536300</td>\n",
              "      <td>0.503228</td>\n",
              "      <td>0.792841</td>\n",
              "      <td>0.084175</td>\n",
              "      <td>0.862069</td>\n",
              "      <td>0.044248</td>\n",
              "    </tr>\n",
              "    <tr>\n",
              "      <td>3</td>\n",
              "      <td>0.536300</td>\n",
              "      <td>0.518090</td>\n",
              "      <td>0.797030</td>\n",
              "      <td>0.157978</td>\n",
              "      <td>0.735294</td>\n",
              "      <td>0.088496</td>\n",
              "    </tr>\n",
              "    <tr>\n",
              "      <td>4</td>\n",
              "      <td>0.511200</td>\n",
              "      <td>0.510232</td>\n",
              "      <td>0.798934</td>\n",
              "      <td>0.159236</td>\n",
              "      <td>0.793651</td>\n",
              "      <td>0.088496</td>\n",
              "    </tr>\n",
              "    <tr>\n",
              "      <td>5</td>\n",
              "      <td>0.480700</td>\n",
              "      <td>0.507548</td>\n",
              "      <td>0.796268</td>\n",
              "      <td>0.175655</td>\n",
              "      <td>0.678571</td>\n",
              "      <td>0.100885</td>\n",
              "    </tr>\n",
              "    <tr>\n",
              "      <td>6</td>\n",
              "      <td>0.480700</td>\n",
              "      <td>0.524577</td>\n",
              "      <td>0.786748</td>\n",
              "      <td>0.230769</td>\n",
              "      <td>0.515337</td>\n",
              "      <td>0.148673</td>\n",
              "    </tr>\n",
              "  </tbody>\n",
              "</table><p>"
            ],
            "text/plain": [
              "<IPython.core.display.HTML object>"
            ]
          },
          "metadata": {}
        },
        {
          "output_type": "stream",
          "name": "stderr",
          "text": [
            "***** Running Evaluation *****\n",
            "  Num examples = 2626\n",
            "  Batch size = 16\n",
            "/usr/local/lib/python3.7/dist-packages/sklearn/metrics/_classification.py:1272: UndefinedMetricWarning: Precision and F-score are ill-defined and being set to 0.0 due to no predicted samples. Use `zero_division` parameter to control this behavior.\n",
            "  _warn_prf(average, modifier, msg_start, len(result))\n",
            "Saving model checkpoint to ./results/checkpoint-329\n",
            "Configuration saved in ./results/checkpoint-329/config.json\n",
            "Model weights saved in ./results/checkpoint-329/pytorch_model.bin\n",
            "tokenizer config file saved in ./results/checkpoint-329/tokenizer_config.json\n",
            "Special tokens file saved in ./results/checkpoint-329/special_tokens_map.json\n",
            "/usr/local/lib/python3.7/dist-packages/ipykernel_launcher.py:9: UserWarning: To copy construct from a tensor, it is recommended to use sourceTensor.clone().detach() or sourceTensor.clone().detach().requires_grad_(True), rather than torch.tensor(sourceTensor).\n",
            "  if __name__ == '__main__':\n",
            "***** Running Evaluation *****\n",
            "  Num examples = 2626\n",
            "  Batch size = 16\n",
            "Saving model checkpoint to ./results/checkpoint-658\n",
            "Configuration saved in ./results/checkpoint-658/config.json\n",
            "Model weights saved in ./results/checkpoint-658/pytorch_model.bin\n",
            "tokenizer config file saved in ./results/checkpoint-658/tokenizer_config.json\n",
            "Special tokens file saved in ./results/checkpoint-658/special_tokens_map.json\n",
            "/usr/local/lib/python3.7/dist-packages/ipykernel_launcher.py:9: UserWarning: To copy construct from a tensor, it is recommended to use sourceTensor.clone().detach() or sourceTensor.clone().detach().requires_grad_(True), rather than torch.tensor(sourceTensor).\n",
            "  if __name__ == '__main__':\n",
            "***** Running Evaluation *****\n",
            "  Num examples = 2626\n",
            "  Batch size = 16\n",
            "Saving model checkpoint to ./results/checkpoint-987\n",
            "Configuration saved in ./results/checkpoint-987/config.json\n",
            "Model weights saved in ./results/checkpoint-987/pytorch_model.bin\n",
            "tokenizer config file saved in ./results/checkpoint-987/tokenizer_config.json\n",
            "Special tokens file saved in ./results/checkpoint-987/special_tokens_map.json\n",
            "/usr/local/lib/python3.7/dist-packages/ipykernel_launcher.py:9: UserWarning: To copy construct from a tensor, it is recommended to use sourceTensor.clone().detach() or sourceTensor.clone().detach().requires_grad_(True), rather than torch.tensor(sourceTensor).\n",
            "  if __name__ == '__main__':\n",
            "***** Running Evaluation *****\n",
            "  Num examples = 2626\n",
            "  Batch size = 16\n",
            "Saving model checkpoint to ./results/checkpoint-1316\n",
            "Configuration saved in ./results/checkpoint-1316/config.json\n",
            "Model weights saved in ./results/checkpoint-1316/pytorch_model.bin\n",
            "tokenizer config file saved in ./results/checkpoint-1316/tokenizer_config.json\n",
            "Special tokens file saved in ./results/checkpoint-1316/special_tokens_map.json\n",
            "/usr/local/lib/python3.7/dist-packages/ipykernel_launcher.py:9: UserWarning: To copy construct from a tensor, it is recommended to use sourceTensor.clone().detach() or sourceTensor.clone().detach().requires_grad_(True), rather than torch.tensor(sourceTensor).\n",
            "  if __name__ == '__main__':\n",
            "***** Running Evaluation *****\n",
            "  Num examples = 2626\n",
            "  Batch size = 16\n",
            "Saving model checkpoint to ./results/checkpoint-1645\n",
            "Configuration saved in ./results/checkpoint-1645/config.json\n",
            "Model weights saved in ./results/checkpoint-1645/pytorch_model.bin\n",
            "tokenizer config file saved in ./results/checkpoint-1645/tokenizer_config.json\n",
            "Special tokens file saved in ./results/checkpoint-1645/special_tokens_map.json\n",
            "/usr/local/lib/python3.7/dist-packages/ipykernel_launcher.py:9: UserWarning: To copy construct from a tensor, it is recommended to use sourceTensor.clone().detach() or sourceTensor.clone().detach().requires_grad_(True), rather than torch.tensor(sourceTensor).\n",
            "  if __name__ == '__main__':\n",
            "***** Running Evaluation *****\n",
            "  Num examples = 2626\n",
            "  Batch size = 16\n",
            "Saving model checkpoint to ./results/checkpoint-1974\n",
            "Configuration saved in ./results/checkpoint-1974/config.json\n",
            "Model weights saved in ./results/checkpoint-1974/pytorch_model.bin\n",
            "tokenizer config file saved in ./results/checkpoint-1974/tokenizer_config.json\n",
            "Special tokens file saved in ./results/checkpoint-1974/special_tokens_map.json\n",
            "\n",
            "\n",
            "Training completed. Do not forget to share your model on huggingface.co/models =)\n",
            "\n",
            "\n",
            "Loading best model from ./results/checkpoint-1974 (score: 0.23076923076923078).\n"
          ]
        },
        {
          "output_type": "execute_result",
          "data": {
            "text/plain": [
              "TrainOutput(global_step=1974, training_loss=0.4957867886157746, metrics={'train_runtime': 2963.5434, 'train_samples_per_second': 21.262, 'train_steps_per_second': 0.666, 'total_flos': 4565743532555760.0, 'train_loss': 0.4957867886157746, 'epoch': 6.0})"
            ]
          },
          "metadata": {},
          "execution_count": 24
        }
      ]
    },
    {
      "cell_type": "code",
      "metadata": {
        "colab": {
          "base_uri": "https://localhost:8080/",
          "height": 1000
        },
        "id": "hnzjhODu7LbQ",
        "outputId": "a9f4f1cb-4c6b-447c-af9a-ff8e16e9be15"
      },
      "source": [
        "trainer.train() "
      ],
      "execution_count": null,
      "outputs": [
        {
          "output_type": "stream",
          "name": "stderr",
          "text": [
            "***** Running training *****\n",
            "  Num examples = 10502\n",
            "  Num Epochs = 6\n",
            "  Instantaneous batch size per device = 32\n",
            "  Total train batch size (w. parallel, distributed & accumulation) = 32\n",
            "  Gradient Accumulation steps = 1\n",
            "  Total optimization steps = 1974\n",
            "/usr/local/lib/python3.7/dist-packages/ipykernel_launcher.py:9: UserWarning: To copy construct from a tensor, it is recommended to use sourceTensor.clone().detach() or sourceTensor.clone().detach().requires_grad_(True), rather than torch.tensor(sourceTensor).\n",
            "  if __name__ == '__main__':\n"
          ]
        },
        {
          "output_type": "display_data",
          "data": {
            "text/html": [
              "\n",
              "    <div>\n",
              "      \n",
              "      <progress value='1974' max='1974' style='width:300px; height:20px; vertical-align: middle;'></progress>\n",
              "      [1974/1974 49:09, Epoch 6/6]\n",
              "    </div>\n",
              "    <table border=\"1\" class=\"dataframe\">\n",
              "  <thead>\n",
              "    <tr style=\"text-align: left;\">\n",
              "      <th>Epoch</th>\n",
              "      <th>Training Loss</th>\n",
              "      <th>Validation Loss</th>\n",
              "      <th>Accuracy</th>\n",
              "      <th>F1</th>\n",
              "      <th>Precision</th>\n",
              "      <th>Recall</th>\n",
              "    </tr>\n",
              "  </thead>\n",
              "  <tbody>\n",
              "    <tr>\n",
              "      <td>1</td>\n",
              "      <td>No log</td>\n",
              "      <td>0.524577</td>\n",
              "      <td>0.786748</td>\n",
              "      <td>0.230769</td>\n",
              "      <td>0.515337</td>\n",
              "      <td>0.148673</td>\n",
              "    </tr>\n",
              "    <tr>\n",
              "      <td>2</td>\n",
              "      <td>0.446000</td>\n",
              "      <td>0.524577</td>\n",
              "      <td>0.786748</td>\n",
              "      <td>0.230769</td>\n",
              "      <td>0.515337</td>\n",
              "      <td>0.148673</td>\n",
              "    </tr>\n",
              "    <tr>\n",
              "      <td>3</td>\n",
              "      <td>0.446000</td>\n",
              "      <td>0.524577</td>\n",
              "      <td>0.786748</td>\n",
              "      <td>0.230769</td>\n",
              "      <td>0.515337</td>\n",
              "      <td>0.148673</td>\n",
              "    </tr>\n",
              "    <tr>\n",
              "      <td>4</td>\n",
              "      <td>0.446800</td>\n",
              "      <td>0.524577</td>\n",
              "      <td>0.786748</td>\n",
              "      <td>0.230769</td>\n",
              "      <td>0.515337</td>\n",
              "      <td>0.148673</td>\n",
              "    </tr>\n",
              "    <tr>\n",
              "      <td>5</td>\n",
              "      <td>0.439900</td>\n",
              "      <td>0.524577</td>\n",
              "      <td>0.786748</td>\n",
              "      <td>0.230769</td>\n",
              "      <td>0.515337</td>\n",
              "      <td>0.148673</td>\n",
              "    </tr>\n",
              "    <tr>\n",
              "      <td>6</td>\n",
              "      <td>0.439900</td>\n",
              "      <td>0.524577</td>\n",
              "      <td>0.786748</td>\n",
              "      <td>0.230769</td>\n",
              "      <td>0.515337</td>\n",
              "      <td>0.148673</td>\n",
              "    </tr>\n",
              "  </tbody>\n",
              "</table><p>"
            ],
            "text/plain": [
              "<IPython.core.display.HTML object>"
            ]
          },
          "metadata": {}
        },
        {
          "output_type": "stream",
          "name": "stderr",
          "text": [
            "***** Running Evaluation *****\n",
            "  Num examples = 2626\n",
            "  Batch size = 16\n",
            "Saving model checkpoint to ./results/checkpoint-329\n",
            "Configuration saved in ./results/checkpoint-329/config.json\n",
            "Model weights saved in ./results/checkpoint-329/pytorch_model.bin\n",
            "tokenizer config file saved in ./results/checkpoint-329/tokenizer_config.json\n",
            "Special tokens file saved in ./results/checkpoint-329/special_tokens_map.json\n",
            "/usr/local/lib/python3.7/dist-packages/ipykernel_launcher.py:9: UserWarning: To copy construct from a tensor, it is recommended to use sourceTensor.clone().detach() or sourceTensor.clone().detach().requires_grad_(True), rather than torch.tensor(sourceTensor).\n",
            "  if __name__ == '__main__':\n",
            "***** Running Evaluation *****\n",
            "  Num examples = 2626\n",
            "  Batch size = 16\n",
            "Saving model checkpoint to ./results/checkpoint-658\n",
            "Configuration saved in ./results/checkpoint-658/config.json\n",
            "Model weights saved in ./results/checkpoint-658/pytorch_model.bin\n",
            "tokenizer config file saved in ./results/checkpoint-658/tokenizer_config.json\n",
            "Special tokens file saved in ./results/checkpoint-658/special_tokens_map.json\n",
            "/usr/local/lib/python3.7/dist-packages/ipykernel_launcher.py:9: UserWarning: To copy construct from a tensor, it is recommended to use sourceTensor.clone().detach() or sourceTensor.clone().detach().requires_grad_(True), rather than torch.tensor(sourceTensor).\n",
            "  if __name__ == '__main__':\n",
            "***** Running Evaluation *****\n",
            "  Num examples = 2626\n",
            "  Batch size = 16\n",
            "Saving model checkpoint to ./results/checkpoint-987\n",
            "Configuration saved in ./results/checkpoint-987/config.json\n",
            "Model weights saved in ./results/checkpoint-987/pytorch_model.bin\n",
            "tokenizer config file saved in ./results/checkpoint-987/tokenizer_config.json\n",
            "Special tokens file saved in ./results/checkpoint-987/special_tokens_map.json\n",
            "/usr/local/lib/python3.7/dist-packages/ipykernel_launcher.py:9: UserWarning: To copy construct from a tensor, it is recommended to use sourceTensor.clone().detach() or sourceTensor.clone().detach().requires_grad_(True), rather than torch.tensor(sourceTensor).\n",
            "  if __name__ == '__main__':\n",
            "***** Running Evaluation *****\n",
            "  Num examples = 2626\n",
            "  Batch size = 16\n",
            "Saving model checkpoint to ./results/checkpoint-1316\n",
            "Configuration saved in ./results/checkpoint-1316/config.json\n",
            "Model weights saved in ./results/checkpoint-1316/pytorch_model.bin\n",
            "tokenizer config file saved in ./results/checkpoint-1316/tokenizer_config.json\n",
            "Special tokens file saved in ./results/checkpoint-1316/special_tokens_map.json\n",
            "/usr/local/lib/python3.7/dist-packages/ipykernel_launcher.py:9: UserWarning: To copy construct from a tensor, it is recommended to use sourceTensor.clone().detach() or sourceTensor.clone().detach().requires_grad_(True), rather than torch.tensor(sourceTensor).\n",
            "  if __name__ == '__main__':\n",
            "***** Running Evaluation *****\n",
            "  Num examples = 2626\n",
            "  Batch size = 16\n",
            "Saving model checkpoint to ./results/checkpoint-1645\n",
            "Configuration saved in ./results/checkpoint-1645/config.json\n",
            "Model weights saved in ./results/checkpoint-1645/pytorch_model.bin\n",
            "tokenizer config file saved in ./results/checkpoint-1645/tokenizer_config.json\n",
            "Special tokens file saved in ./results/checkpoint-1645/special_tokens_map.json\n",
            "/usr/local/lib/python3.7/dist-packages/ipykernel_launcher.py:9: UserWarning: To copy construct from a tensor, it is recommended to use sourceTensor.clone().detach() or sourceTensor.clone().detach().requires_grad_(True), rather than torch.tensor(sourceTensor).\n",
            "  if __name__ == '__main__':\n",
            "***** Running Evaluation *****\n",
            "  Num examples = 2626\n",
            "  Batch size = 16\n",
            "Saving model checkpoint to ./results/checkpoint-1974\n",
            "Configuration saved in ./results/checkpoint-1974/config.json\n",
            "Model weights saved in ./results/checkpoint-1974/pytorch_model.bin\n",
            "tokenizer config file saved in ./results/checkpoint-1974/tokenizer_config.json\n",
            "Special tokens file saved in ./results/checkpoint-1974/special_tokens_map.json\n",
            "\n",
            "\n",
            "Training completed. Do not forget to share your model on huggingface.co/models =)\n",
            "\n",
            "\n",
            "Loading best model from ./results/checkpoint-329 (score: 0.23076923076923078).\n"
          ]
        },
        {
          "output_type": "execute_result",
          "data": {
            "text/plain": [
              "TrainOutput(global_step=1974, training_loss=0.44529796009005745, metrics={'train_runtime': 2951.4854, 'train_samples_per_second': 21.349, 'train_steps_per_second': 0.669, 'total_flos': 4565743532555760.0, 'train_loss': 0.44529796009005745, 'epoch': 6.0})"
            ]
          },
          "metadata": {},
          "execution_count": 25
        }
      ]
    },
    {
      "cell_type": "markdown",
      "metadata": {
        "id": "rPY77QdItBYe"
      },
      "source": [
        "Saving the model"
      ]
    },
    {
      "cell_type": "code",
      "metadata": {
        "colab": {
          "base_uri": "https://localhost:8080/"
        },
        "id": "-0EyXuftjojj",
        "outputId": "898e6b63-a28a-4f2c-b2d3-3605efef5c9a"
      },
      "source": [
        "trainer.save_model('layoutlm')"
      ],
      "execution_count": null,
      "outputs": [
        {
          "output_type": "stream",
          "name": "stderr",
          "text": [
            "Saving model checkpoint to layoutlm\n",
            "Configuration saved in layoutlm/config.json\n",
            "Model weights saved in layoutlm/pytorch_model.bin\n",
            "tokenizer config file saved in layoutlm/tokenizer_config.json\n",
            "Special tokens file saved in layoutlm/special_tokens_map.json\n"
          ]
        }
      ]
    },
    {
      "cell_type": "code",
      "metadata": {
        "colab": {
          "base_uri": "https://localhost:8080/"
        },
        "id": "4XK7r9fLj1Pq",
        "outputId": "f18cbc9e-ea38-4890-eec5-2b07ae15370d"
      },
      "source": [
        "from google.colab import drive\n",
        "drive.mount('/content/drive')"
      ],
      "execution_count": null,
      "outputs": [
        {
          "output_type": "stream",
          "name": "stdout",
          "text": [
            "Mounted at /content/drive\n"
          ]
        }
      ]
    },
    {
      "cell_type": "code",
      "metadata": {
        "colab": {
          "base_uri": "https://localhost:8080/",
          "height": 35
        },
        "id": "vCwlmRkfj_mj",
        "outputId": "b384b637-cfa5-4ff1-f919-c03e36be97bc"
      },
      "source": [
        "import shutil\n",
        "shutil.make_archive('/content/drive/MyDrive/layoutlm', 'zip', 'layoutlm')"
      ],
      "execution_count": null,
      "outputs": [
        {
          "output_type": "execute_result",
          "data": {
            "application/vnd.google.colaboratory.intrinsic+json": {
              "type": "string"
            },
            "text/plain": [
              "'/content/drive/MyDrive/layoutlm.zip'"
            ]
          },
          "metadata": {},
          "execution_count": 28
        }
      ]
    },
    {
      "cell_type": "markdown",
      "metadata": {
        "id": "SVf-Jj1qiFZJ"
      },
      "source": [
        "## Evaluation"
      ]
    },
    {
      "cell_type": "code",
      "metadata": {
        "id": "8RM-BCErHyBL",
        "colab": {
          "base_uri": "https://localhost:8080/",
          "height": 300
        },
        "outputId": "e46b5432-fba7-4ea0-f5e1-2d2fbb4f3a7e"
      },
      "source": [
        "trainer.evaluate(test_dataset)"
      ],
      "execution_count": null,
      "outputs": [
        {
          "output_type": "stream",
          "name": "stderr",
          "text": [
            "***** Running Evaluation *****\n",
            "  Num examples = 2110\n",
            "  Batch size = 16\n",
            "/usr/local/lib/python3.7/dist-packages/ipykernel_launcher.py:9: UserWarning: To copy construct from a tensor, it is recommended to use sourceTensor.clone().detach() or sourceTensor.clone().detach().requires_grad_(True), rather than torch.tensor(sourceTensor).\n",
            "  if __name__ == '__main__':\n"
          ]
        },
        {
          "output_type": "display_data",
          "data": {
            "text/html": [
              "\n",
              "    <div>\n",
              "      \n",
              "      <progress value='132' max='132' style='width:300px; height:20px; vertical-align: middle;'></progress>\n",
              "      [132/132 00:35]\n",
              "    </div>\n",
              "    "
            ],
            "text/plain": [
              "<IPython.core.display.HTML object>"
            ]
          },
          "metadata": {}
        },
        {
          "output_type": "execute_result",
          "data": {
            "text/plain": [
              "{'epoch': 6.0,\n",
              " 'eval_accuracy': 0.5587677725118484,\n",
              " 'eval_f1': 0.43949428055388323,\n",
              " 'eval_loss': 0.6979271769523621,\n",
              " 'eval_precision': 0.3798126951092612,\n",
              " 'eval_recall': 0.5214285714285715,\n",
              " 'eval_runtime': 35.4767,\n",
              " 'eval_samples_per_second': 59.476,\n",
              " 'eval_steps_per_second': 3.721}"
            ]
          },
          "metadata": {},
          "execution_count": 22
        }
      ]
    },
    {
      "cell_type": "markdown",
      "metadata": {
        "id": "FjjCtB7oiNAX"
      },
      "source": [
        "## Downloading and loading the trained weights"
      ]
    },
    {
      "cell_type": "code",
      "metadata": {
        "id": "NccSt3mrIMlY"
      },
      "source": [
        "import shutil\n",
        "!wget https://github.com/mavillot/FUNSD-Entity-Linking/releases/download/layoutLM/layoutlm.zip\n",
        "shutil.unpack_archive('layoutlm.zip', 'layoutlm')"
      ],
      "execution_count": null,
      "outputs": []
    },
    {
      "cell_type": "code",
      "metadata": {
        "id": "PgCTy7KXiBUp"
      },
      "source": [
        "from transformers import BertForSequenceClassification,AutoTokenizer,Trainer, TrainingArguments\n",
        "tokenizer = AutoTokenizer.from_pretrained('layoutlm')\n",
        "model = BertForSequenceClassification.from_pretrained('layoutlm', num_labels=2)\n",
        "trainer = Trainer(model,compute_metrics=compute_metrics)"
      ],
      "execution_count": null,
      "outputs": []
    },
    {
      "cell_type": "markdown",
      "metadata": {
        "id": "FqnJOgkX2nnc"
      },
      "source": [
        "# Results"
      ]
    },
    {
      "cell_type": "markdown",
      "metadata": {
        "id": "cDlApZq8uwij"
      },
      "source": [
        "We build our test dataset"
      ]
    },
    {
      "cell_type": "code",
      "metadata": {
        "id": "4km8oIFjuhAA"
      },
      "source": [
        "dataset_test=Dataset('dataset/testing_data/annotations')\n",
        "text_test, labels_test=dataset_test.preparation()\n",
        "test_encodings = tokenizer(text_test, truncation=True, padding=True)\n",
        "test_dataset = FUNDSDataset(test_encodings, labels_test)"
      ],
      "execution_count": null,
      "outputs": []
    },
    {
      "cell_type": "markdown",
      "metadata": {
        "id": "mTO31eesiFVN"
      },
      "source": [
        "**We check if all the answers have at least one question in their candidates:**"
      ]
    },
    {
      "cell_type": "code",
      "metadata": {
        "colab": {
          "base_uri": "https://localhost:8080/"
        },
        "id": "5iufGy2jiKE9",
        "outputId": "3307a099-64b9-4340-8c03-adff6c8a73cf"
      },
      "source": [
        "path='/content/dataset/testing_data/annotations/'\n",
        "i=0\n",
        "for f in dataset_test:\n",
        "  f=path+f\n",
        "  cand,_,_=candidatesANDlabels(f)\n",
        "  for c in cand:\n",
        "    if cand[c]==[]:\n",
        "      i+=1\n",
        "print(i)"
      ],
      "execution_count": null,
      "outputs": [
        {
          "output_type": "stream",
          "name": "stdout",
          "text": [
            "0\n"
          ]
        }
      ]
    },
    {
      "cell_type": "markdown",
      "metadata": {
        "id": "e0b3G_kjiSds"
      },
      "source": [
        "There's no answer without candidates"
      ]
    },
    {
      "cell_type": "markdown",
      "metadata": {
        "id": "5ZIkTrnCiFVN"
      },
      "source": [
        "**We check if all the correct questions are in the candidate list of the answer:**"
      ]
    },
    {
      "cell_type": "code",
      "metadata": {
        "colab": {
          "base_uri": "https://localhost:8080/"
        },
        "id": "GJVKorY2iZR9",
        "outputId": "74699186-b9c6-4f45-83f7-1563c57196c4"
      },
      "source": [
        "path='/content/dataset/testing_data/annotations/'\n",
        "i,j=0,0\n",
        "for f in dataset_test:\n",
        "  f=path+f\n",
        "  _,lbl,_=candidatesANDlabels(f)\n",
        "  for k in lbl:\n",
        "    j+=1\n",
        "    if not(True in lbl[k]):\n",
        "      i+=1\n",
        "print(i,j)"
      ],
      "execution_count": null,
      "outputs": [
        {
          "output_type": "stream",
          "name": "stdout",
          "text": [
            "3 821\n"
          ]
        }
      ]
    },
    {
      "cell_type": "code",
      "metadata": {
        "colab": {
          "base_uri": "https://localhost:8080/"
        },
        "id": "kWO4pX3-iZR-",
        "outputId": "95f2df09-52b7-4d7a-8a4c-0cde121ca3fe"
      },
      "source": [
        "3*100/821"
      ],
      "execution_count": null,
      "outputs": [
        {
          "output_type": "execute_result",
          "data": {
            "text/plain": [
              "0.3654080389768575"
            ]
          },
          "metadata": {},
          "execution_count": 103
        }
      ]
    },
    {
      "cell_type": "markdown",
      "metadata": {
        "id": "H0HHQTISiFVO"
      },
      "source": [
        "Ther're 3 of the 821 answers (0.37%) who haven't got their correct question in the candidates"
      ]
    },
    {
      "cell_type": "markdown",
      "metadata": {
        "id": "94lXrlBaksoA"
      },
      "source": [
        "### PREDICTIONS"
      ]
    },
    {
      "cell_type": "code",
      "metadata": {
        "id": "VpYIaKpnQv9O"
      },
      "source": [
        "coef=trainer.predict(test_dataset)[0]\n",
        "prediction=coef.argmax(-1)\n",
        "prediction=[p for p in prediction]\n",
        "coef=[tupla[1] for tupla in coef]"
      ],
      "execution_count": null,
      "outputs": []
    },
    {
      "cell_type": "markdown",
      "metadata": {
        "id": "Fi-UJlq-ExUH"
      },
      "source": [
        "### Results (Before the rules are applied)"
      ]
    },
    {
      "cell_type": "code",
      "metadata": {
        "colab": {
          "base_uri": "https://localhost:8080/"
        },
        "id": "Kyy_aMYwzckn",
        "outputId": "ff834986-e533-4d1c-cf96-7d594bbc160a"
      },
      "source": [
        "precision, recall, f1, _ = precision_recall_fscore_support(labels_test, prediction, average='binary')\n",
        "acc = accuracy_score(labels_test, prediction)\n",
        "print('accuracy: ',acc)\n",
        "print('precision: ',precision)\n",
        "print('recall: ',recall)\n",
        "print('f1: ',f1)"
      ],
      "execution_count": null,
      "outputs": [
        {
          "output_type": "stream",
          "name": "stdout",
          "text": [
            "accuracy:  0.8018490754622689\n",
            "precision:  0.517208413001912\n",
            "recall:  0.6525934861278649\n",
            "f1:  0.5770666666666666\n"
          ]
        }
      ]
    },
    {
      "cell_type": "code",
      "metadata": {
        "colab": {
          "base_uri": "https://localhost:8080/"
        },
        "id": "Z_Z1FpCNkAGu",
        "outputId": "83aef61e-90e4-4331-a7df-3e7697dfd861"
      },
      "source": [
        "mAP(dataset_test,coef,labels_test)"
      ],
      "execution_count": null,
      "outputs": [
        {
          "output_type": "stream",
          "name": "stderr",
          "text": [
            "/usr/local/lib/python3.7/dist-packages/sklearn/metrics/_ranking.py:677: RuntimeWarning: invalid value encountered in true_divide\n",
            "  recall = tps / tps[-1]\n"
          ]
        },
        {
          "output_type": "execute_result",
          "data": {
            "text/plain": [
              "0.7736070162075037"
            ]
          },
          "metadata": {},
          "execution_count": 114
        }
      ]
    },
    {
      "cell_type": "code",
      "metadata": {
        "colab": {
          "base_uri": "https://localhost:8080/"
        },
        "id": "h1hXa4EbkAG5",
        "outputId": "ad369f12-914a-48e0-ce64-2aedc882e720"
      },
      "source": [
        "mRank(dataset_test,prediction,labels_test,coef)"
      ],
      "execution_count": null,
      "outputs": [
        {
          "output_type": "execute_result",
          "data": {
            "text/plain": [
              "0.6516443361753959"
            ]
          },
          "metadata": {},
          "execution_count": 115
        }
      ]
    },
    {
      "cell_type": "markdown",
      "metadata": {
        "id": "kcDnmj5Vkkys"
      },
      "source": [
        "### Results (After the rules are applied)"
      ]
    },
    {
      "cell_type": "markdown",
      "metadata": {
        "id": "gXWsD7w9h5XB"
      },
      "source": [
        "RULES:"
      ]
    },
    {
      "cell_type": "code",
      "metadata": {
        "id": "u62UW6MpbwqC"
      },
      "source": [
        "path=dataset_test.path_annotation+'/'\n",
        "a=0\n",
        "prediction_FINAL,coef_FINAL=[],[]\n",
        "for f in dataset_test:\n",
        "  cand,txt=rank(path+f)\n",
        "  lenght=0\n",
        "  for c in cand:\n",
        "    lenght+=len(cand[c])\n",
        "  b=a+lenght\n",
        "  pred,cf=rules(cand, prediction[a:b],coef[a:b])\n",
        "  prediction_FINAL=prediction_FINAL+pred\n",
        "  coef_FINAL=coef_FINAL+cf\n",
        "  a=b"
      ],
      "execution_count": null,
      "outputs": []
    },
    {
      "cell_type": "code",
      "metadata": {
        "colab": {
          "base_uri": "https://localhost:8080/"
        },
        "id": "XDrpP2l08PBM",
        "outputId": "d51b182b-5aab-407a-e945-8bed2a8933df"
      },
      "source": [
        "precision, recall, f1, _ = precision_recall_fscore_support(labels_test, prediction_FINAL, average='binary')\n",
        "acc = accuracy_score(labels_test, prediction_FINAL)\n",
        "print('accuracy: ',acc)\n",
        "print('precision: ',precision)\n",
        "print('recall: ',recall)\n",
        "print('f1: ',f1)"
      ],
      "execution_count": null,
      "outputs": [
        {
          "output_type": "stream",
          "name": "stdout",
          "text": [
            "accuracy:  0.9170414792603698\n",
            "precision:  0.8026796589524969\n",
            "recall:  0.7949336550060314\n",
            "f1:  0.7987878787878787\n"
          ]
        }
      ]
    },
    {
      "cell_type": "code",
      "metadata": {
        "colab": {
          "base_uri": "https://localhost:8080/"
        },
        "id": "WB4NWugU6m1D",
        "outputId": "8669b4b8-a727-4a33-ebc3-1488a1f31b36"
      },
      "source": [
        "mAP(dataset_test,coef_FINAL,labels_test)"
      ],
      "execution_count": null,
      "outputs": [
        {
          "output_type": "stream",
          "name": "stderr",
          "text": [
            "/usr/local/lib/python3.7/dist-packages/sklearn/metrics/_ranking.py:677: RuntimeWarning: invalid value encountered in true_divide\n",
            "  recall = tps / tps[-1]\n"
          ]
        },
        {
          "output_type": "execute_result",
          "data": {
            "text/plain": [
              "0.8724088369338063"
            ]
          },
          "metadata": {},
          "execution_count": 121
        }
      ]
    },
    {
      "cell_type": "code",
      "metadata": {
        "id": "g-oA4RxpRxW4",
        "colab": {
          "base_uri": "https://localhost:8080/"
        },
        "outputId": "438d1c7d-2e04-47ee-8a4f-fc25d7959928"
      },
      "source": [
        "mRank(dataset_test,prediction_FINAL,labels_test,coef_FINAL)"
      ],
      "execution_count": null,
      "outputs": [
        {
          "output_type": "execute_result",
          "data": {
            "text/plain": [
              "0.4933008526187576"
            ]
          },
          "metadata": {},
          "execution_count": 122
        }
      ]
    }
  ]
}